{
 "cells": [
  {
   "cell_type": "code",
   "execution_count": 2,
   "id": "293b5ba9",
   "metadata": {},
   "outputs": [],
   "source": [
    "import numpy as np\n",
    "import matplotlib.pyplot as plt"
   ]
  },
  {
   "cell_type": "code",
   "execution_count": 3,
   "id": "1f6076f5",
   "metadata": {},
   "outputs": [],
   "source": [
    "matrix = [(1,2,3),(4,5,6),(7,8,9)]"
   ]
  },
  {
   "cell_type": "code",
   "execution_count": 4,
   "id": "c761cb3f",
   "metadata": {},
   "outputs": [
    {
     "name": "stdout",
     "output_type": "stream",
     "text": [
      "[[1 2 3]\n",
      " [4 5 6]\n",
      " [7 8 9]]\n"
     ]
    }
   ],
   "source": [
    "np_matrix = np.array(matrix)\n",
    "print(np_matrix)"
   ]
  },
  {
   "cell_type": "code",
   "execution_count": 5,
   "id": "a9eac232-2923-4bfb-a650-f5e1594d0a58",
   "metadata": {},
   "outputs": [
    {
     "name": "stdout",
     "output_type": "stream",
     "text": [
      "[  0   2   4   6   8  10  12  14  16  18  20  22  24  26  28  30  32  34\n",
      "  36  38  40  42  44  46  48  50  52  54  56  58  60  62  64  66  68  70\n",
      "  72  74  76  78  80  82  84  86  88  90  92  94  96  98 100]\n"
     ]
    }
   ],
   "source": [
    "arr = np.arange(0,101,2)\n",
    "print(arr)"
   ]
  },
  {
   "cell_type": "code",
   "execution_count": 6,
   "id": "21b06603-0905-44cd-ae0f-7292d56ace0d",
   "metadata": {},
   "outputs": [
    {
     "name": "stdout",
     "output_type": "stream",
     "text": [
      "[[0 0 0 0]\n",
      " [0 0 0 0]\n",
      " [0 0 0 0]]\n"
     ]
    }
   ],
   "source": [
    "arr0 = np.zeros((3,4),int)\n",
    "print(arr0)"
   ]
  },
  {
   "cell_type": "code",
   "execution_count": 7,
   "id": "e835fc4f-ad7b-43bd-848d-dfcd2c9bcc9b",
   "metadata": {},
   "outputs": [
    {
     "name": "stdout",
     "output_type": "stream",
     "text": [
      "[[1 1]\n",
      " [1 1]\n",
      " [1 1]]\n"
     ]
    }
   ],
   "source": [
    "arr1 = np.ones((3,2),dtype = int)\n",
    "print(arr1)"
   ]
  },
  {
   "cell_type": "code",
   "execution_count": 29,
   "id": "60411d19-46e1-4954-bece-ab94251f263b",
   "metadata": {},
   "outputs": [
    {
     "name": "stdout",
     "output_type": "stream",
     "text": [
      "[ 0.          1.66666667  3.33333333  5.          6.66666667  8.33333333\n",
      " 10.        ]\n"
     ]
    }
   ],
   "source": [
    "lns = np.linspace(0,10,7);\n",
    "print(lns)"
   ]
  },
  {
   "cell_type": "code",
   "execution_count": 9,
   "id": "90e1ff94-6dfb-48cc-a3c2-bf08b97c173e",
   "metadata": {},
   "outputs": [
    {
     "name": "stdout",
     "output_type": "stream",
     "text": [
      "[[1 0 0]\n",
      " [0 1 0]\n",
      " [0 0 1]]\n"
     ]
    }
   ],
   "source": [
    "idm = np.eye(3, dtype = int)\n",
    "print(idm)"
   ]
  },
  {
   "cell_type": "code",
   "execution_count": 10,
   "id": "ed0dded2-1a20-4fb8-b313-b827b219f699",
   "metadata": {},
   "outputs": [
    {
     "name": "stdout",
     "output_type": "stream",
     "text": [
      "[[0.51576983 0.24300495 0.25974735 0.61789507]\n",
      " [0.5111082  0.25309544 0.37368615 0.28644207]\n",
      " [0.32294517 0.949335   0.14119008 0.34831274]\n",
      " [0.20406555 0.26430173 0.94593763 0.78580015]\n",
      " [0.01104008 0.01808685 0.25071716 0.34038195]]\n"
     ]
    }
   ],
   "source": [
    "randarr = np.random.rand(5,4)\n",
    "print(randarr)"
   ]
  },
  {
   "cell_type": "code",
   "execution_count": 11,
   "id": "6b3db2f3-4b3f-4ec2-8d9d-a2ff87f10581",
   "metadata": {},
   "outputs": [
    {
     "name": "stdout",
     "output_type": "stream",
     "text": [
      "[[-0.41176654  1.26430856  0.42045083]\n",
      " [-1.16095855  0.60310112  0.35007994]]\n"
     ]
    }
   ],
   "source": [
    "randnarr = np.random.randn(2,3)\n",
    "print(randnarr)"
   ]
  },
  {
   "cell_type": "code",
   "execution_count": 12,
   "id": "46926239-e57f-438b-ba3f-d0ecb4042d55",
   "metadata": {},
   "outputs": [
    {
     "name": "stdout",
     "output_type": "stream",
     "text": [
      "[93 24 40 27 22 81 84 69 98 42 45 45 69 80 95 84 51 20 86 60 55 36 71 25\n",
      "  5]\n"
     ]
    }
   ],
   "source": [
    "ranint = np.random.randint(0,101,25)\n",
    "print(ranint)"
   ]
  },
  {
   "cell_type": "code",
   "execution_count": 13,
   "id": "1765cf04-aa3c-478f-8f27-17ab342f171b",
   "metadata": {},
   "outputs": [
    {
     "name": "stdout",
     "output_type": "stream",
     "text": [
      "[[ 1 24]\n",
      " [15  2]\n",
      " [ 6  4]]\n"
     ]
    }
   ],
   "source": [
    "rain = np.random.randint(1,25,(3,2))\n",
    "print(rain)"
   ]
  },
  {
   "cell_type": "code",
   "execution_count": 14,
   "id": "8371fd0c-c61b-4453-a2d0-9906a3134c94",
   "metadata": {},
   "outputs": [
    {
     "name": "stdout",
     "output_type": "stream",
     "text": [
      "[38 51 28 14 42  7 20 38]\n"
     ]
    }
   ],
   "source": [
    "np.random.seed(42)\n",
    "ar = np.random.randint(0,59,8)\n",
    "print(ar)"
   ]
  },
  {
   "cell_type": "code",
   "execution_count": 15,
   "id": "c21a6309-c7ca-499f-a746-515c7536e9eb",
   "metadata": {},
   "outputs": [
    {
     "data": {
      "text/plain": [
       "array([[38, 51, 28, 14],\n",
       "       [42,  7, 20, 38]])"
      ]
     },
     "execution_count": 15,
     "metadata": {},
     "output_type": "execute_result"
    }
   ],
   "source": [
    "ar.reshape(2,4)"
   ]
  },
  {
   "cell_type": "code",
   "execution_count": 16,
   "id": "b2fcf4e1-9d64-4770-8c97-094e6d7cc5c5",
   "metadata": {},
   "outputs": [
    {
     "data": {
      "text/plain": [
       "dtype('int32')"
      ]
     },
     "execution_count": 16,
     "metadata": {},
     "output_type": "execute_result"
    }
   ],
   "source": [
    "ar.dtype"
   ]
  },
  {
   "cell_type": "code",
   "execution_count": 17,
   "id": "3bc0cabd-7e86-444d-a982-4e9eebba8992",
   "metadata": {},
   "outputs": [
    {
     "data": {
      "text/plain": [
       "51"
      ]
     },
     "execution_count": 17,
     "metadata": {},
     "output_type": "execute_result"
    }
   ],
   "source": [
    "ar.max()"
   ]
  },
  {
   "cell_type": "code",
   "execution_count": 18,
   "id": "c2d7150f-776c-4135-8dab-a3aacd345ec0",
   "metadata": {},
   "outputs": [
    {
     "data": {
      "text/plain": [
       "7"
      ]
     },
     "execution_count": 18,
     "metadata": {},
     "output_type": "execute_result"
    }
   ],
   "source": [
    "ar.min()"
   ]
  },
  {
   "cell_type": "code",
   "execution_count": 19,
   "id": "4cab3335-009f-4810-a4bb-24c20859d5f6",
   "metadata": {},
   "outputs": [
    {
     "data": {
      "text/plain": [
       "1"
      ]
     },
     "execution_count": 19,
     "metadata": {},
     "output_type": "execute_result"
    }
   ],
   "source": [
    "ar.argmax()"
   ]
  },
  {
   "cell_type": "code",
   "execution_count": 20,
   "id": "f8568273-3651-4238-8374-7b151b070e9e",
   "metadata": {},
   "outputs": [
    {
     "data": {
      "text/plain": [
       "5"
      ]
     },
     "execution_count": 20,
     "metadata": {},
     "output_type": "execute_result"
    }
   ],
   "source": [
    "ar.argmin()"
   ]
  },
  {
   "cell_type": "code",
   "execution_count": 21,
   "id": "2009cd39-45c4-4820-8bfb-c4904aa62953",
   "metadata": {},
   "outputs": [],
   "source": [
    "slice_of_ar = ar[0:5]"
   ]
  },
  {
   "cell_type": "code",
   "execution_count": 22,
   "id": "e28bf841-e107-410a-b40b-e158133bcba5",
   "metadata": {},
   "outputs": [
    {
     "name": "stdout",
     "output_type": "stream",
     "text": [
      "[38 51 28 14 42]\n"
     ]
    }
   ],
   "source": [
    "print(slice_of_ar)"
   ]
  },
  {
   "cell_type": "code",
   "execution_count": 23,
   "id": "2004c3fe-b76b-4e43-9d02-7a9c19c58ba1",
   "metadata": {},
   "outputs": [
    {
     "name": "stdout",
     "output_type": "stream",
     "text": [
      "[69 69 69 69 69]\n",
      "[69 69 69 69 69  7 20 38]\n"
     ]
    }
   ],
   "source": [
    "slice_of_ar[:] = 69\n",
    "print(slice_of_ar)\n",
    "print(ar)"
   ]
  },
  {
   "cell_type": "code",
   "execution_count": 24,
   "id": "0e915a90-d287-490f-bd4c-ed65a7d8c2ed",
   "metadata": {},
   "outputs": [
    {
     "name": "stdout",
     "output_type": "stream",
     "text": [
      "[[ 0  2  4  6]\n",
      " [ 8 10 12 14]\n",
      " [16 18 20 22]\n",
      " [24 26 28 30]]\n"
     ]
    }
   ],
   "source": [
    "arr = np.arange(0,31,2,int).reshape(4,4)\n",
    "print(arr)"
   ]
  },
  {
   "cell_type": "code",
   "execution_count": 25,
   "id": "99e6fca0-f8a1-45d6-8a7d-d49dcd157d7b",
   "metadata": {},
   "outputs": [
    {
     "data": {
      "text/plain": [
       "array([ 12,  44,  76, 108])"
      ]
     },
     "execution_count": 25,
     "metadata": {},
     "output_type": "execute_result"
    }
   ],
   "source": [
    "np.sum(arr,axis=1)"
   ]
  },
  {
   "cell_type": "code",
   "execution_count": 26,
   "id": "4bf7ef1e-2268-49e4-956b-b9c3e86babe4",
   "metadata": {},
   "outputs": [
    {
     "name": "stdout",
     "output_type": "stream",
     "text": [
      "[[ 1  2  3  4  5]\n",
      " [ 6  7  8  9 10]\n",
      " [11 12 13 14 15]\n",
      " [16 17 18 19 20]\n",
      " [21 22 23 24 25]]\n"
     ]
    }
   ],
   "source": [
    "matrixnp = np.arange(1,26,1,int).reshape(5,5)\n",
    "print (matrixnp)"
   ]
  },
  {
   "cell_type": "code",
   "execution_count": 27,
   "id": "ab2acf6a-f5d4-4f3c-9d87-12c0482e4b40",
   "metadata": {},
   "outputs": [
    {
     "name": "stdout",
     "output_type": "stream",
     "text": [
      "[[12 13 14 15]\n",
      " [17 18 19 20]\n",
      " [22 23 24 25]]\n"
     ]
    }
   ],
   "source": [
    "mat = matrixnp[2:,1:]\n",
    "print(mat)"
   ]
  },
  {
   "cell_type": "code",
   "execution_count": 30,
   "id": "a7161794-7d75-4f47-b745-f8e46f619e9c",
   "metadata": {},
   "outputs": [
    {
     "data": {
      "text/plain": [
       "array([[ 2],\n",
       "       [ 7],\n",
       "       [12]])"
      ]
     },
     "execution_count": 30,
     "metadata": {},
     "output_type": "execute_result"
    }
   ],
   "source": [
    "matrixnp[0:3,1].reshape(3,1)"
   ]
  },
  {
   "cell_type": "markdown",
   "id": "4af99098-6da2-4e30-996c-fca6767e5cd0",
   "metadata": {},
   "source": []
  },
  {
   "cell_type": "code",
   "execution_count": 31,
   "id": "c05eb95c-2ecc-4e71-adfa-add0cf1d0cef",
   "metadata": {},
   "outputs": [
    {
     "name": "stdout",
     "output_type": "stream",
     "text": [
      "Help on function linspace in module numpy:\n",
      "\n",
      "linspace(start, stop, num=50, endpoint=True, retstep=False, dtype=None, axis=0)\n",
      "    Return evenly spaced numbers over a specified interval.\n",
      "    \n",
      "    Returns `num` evenly spaced samples, calculated over the\n",
      "    interval [`start`, `stop`].\n",
      "    \n",
      "    The endpoint of the interval can optionally be excluded.\n",
      "    \n",
      "    .. versionchanged:: 1.16.0\n",
      "        Non-scalar `start` and `stop` are now supported.\n",
      "    \n",
      "    .. versionchanged:: 1.20.0\n",
      "        Values are rounded towards ``-inf`` instead of ``0`` when an\n",
      "        integer ``dtype`` is specified. The old behavior can\n",
      "        still be obtained with ``np.linspace(start, stop, num).astype(int)``\n",
      "    \n",
      "    Parameters\n",
      "    ----------\n",
      "    start : array_like\n",
      "        The starting value of the sequence.\n",
      "    stop : array_like\n",
      "        The end value of the sequence, unless `endpoint` is set to False.\n",
      "        In that case, the sequence consists of all but the last of ``num + 1``\n",
      "        evenly spaced samples, so that `stop` is excluded.  Note that the step\n",
      "        size changes when `endpoint` is False.\n",
      "    num : int, optional\n",
      "        Number of samples to generate. Default is 50. Must be non-negative.\n",
      "    endpoint : bool, optional\n",
      "        If True, `stop` is the last sample. Otherwise, it is not included.\n",
      "        Default is True.\n",
      "    retstep : bool, optional\n",
      "        If True, return (`samples`, `step`), where `step` is the spacing\n",
      "        between samples.\n",
      "    dtype : dtype, optional\n",
      "        The type of the output array.  If `dtype` is not given, the data type\n",
      "        is inferred from `start` and `stop`. The inferred dtype will never be\n",
      "        an integer; `float` is chosen even if the arguments would produce an\n",
      "        array of integers.\n",
      "    \n",
      "        .. versionadded:: 1.9.0\n",
      "    \n",
      "    axis : int, optional\n",
      "        The axis in the result to store the samples.  Relevant only if start\n",
      "        or stop are array-like.  By default (0), the samples will be along a\n",
      "        new axis inserted at the beginning. Use -1 to get an axis at the end.\n",
      "    \n",
      "        .. versionadded:: 1.16.0\n",
      "    \n",
      "    Returns\n",
      "    -------\n",
      "    samples : ndarray\n",
      "        There are `num` equally spaced samples in the closed interval\n",
      "        ``[start, stop]`` or the half-open interval ``[start, stop)``\n",
      "        (depending on whether `endpoint` is True or False).\n",
      "    step : float, optional\n",
      "        Only returned if `retstep` is True\n",
      "    \n",
      "        Size of spacing between samples.\n",
      "    \n",
      "    \n",
      "    See Also\n",
      "    --------\n",
      "    arange : Similar to `linspace`, but uses a step size (instead of the\n",
      "             number of samples).\n",
      "    geomspace : Similar to `linspace`, but with numbers spaced evenly on a log\n",
      "                scale (a geometric progression).\n",
      "    logspace : Similar to `geomspace`, but with the end points specified as\n",
      "               logarithms.\n",
      "    :ref:`how-to-partition`\n",
      "    \n",
      "    Examples\n",
      "    --------\n",
      "    >>> np.linspace(2.0, 3.0, num=5)\n",
      "    array([2.  , 2.25, 2.5 , 2.75, 3.  ])\n",
      "    >>> np.linspace(2.0, 3.0, num=5, endpoint=False)\n",
      "    array([2. ,  2.2,  2.4,  2.6,  2.8])\n",
      "    >>> np.linspace(2.0, 3.0, num=5, retstep=True)\n",
      "    (array([2.  ,  2.25,  2.5 ,  2.75,  3.  ]), 0.25)\n",
      "    \n",
      "    Graphical illustration:\n",
      "    \n",
      "    >>> import matplotlib.pyplot as plt\n",
      "    >>> N = 8\n",
      "    >>> y = np.zeros(N)\n",
      "    >>> x1 = np.linspace(0, 10, N, endpoint=True)\n",
      "    >>> x2 = np.linspace(0, 10, N, endpoint=False)\n",
      "    >>> plt.plot(x1, y, 'o')\n",
      "    [<matplotlib.lines.Line2D object at 0x...>]\n",
      "    >>> plt.plot(x2, y + 0.5, 'o')\n",
      "    [<matplotlib.lines.Line2D object at 0x...>]\n",
      "    >>> plt.ylim([-0.5, 1])\n",
      "    (-0.5, 1)\n",
      "    >>> plt.show()\n",
      "\n"
     ]
    }
   ],
   "source": [
    "help(np.linspace)"
   ]
  },
  {
   "cell_type": "code",
   "execution_count": null,
   "id": "acea8361-fe1b-4215-b1f5-024049fbcf91",
   "metadata": {},
   "outputs": [],
   "source": []
  }
 ],
 "metadata": {
  "kernelspec": {
   "display_name": "Python 3 (ipykernel)",
   "language": "python",
   "name": "python3"
  },
  "language_info": {
   "codemirror_mode": {
    "name": "ipython",
    "version": 3
   },
   "file_extension": ".py",
   "mimetype": "text/x-python",
   "name": "python",
   "nbconvert_exporter": "python",
   "pygments_lexer": "ipython3",
   "version": "3.11.3"
  }
 },
 "nbformat": 4,
 "nbformat_minor": 5
}
