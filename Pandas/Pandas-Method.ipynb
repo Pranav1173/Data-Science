{
 "cells": [
  {
   "cell_type": "code",
   "execution_count": 5,
   "id": "d5089b75-ba1a-4238-b9c6-9a1d86be1305",
   "metadata": {},
   "outputs": [],
   "source": [
    "import numpy as np\n",
    "import pandas as pd"
   ]
  },
  {
   "cell_type": "code",
   "execution_count": 6,
   "id": "78f5c6fc-bfd4-4369-99af-077a1c470b1b",
   "metadata": {},
   "outputs": [],
   "source": [
    "df = pd.read_csv('example.csv')"
   ]
  },
  {
   "cell_type": "code",
   "execution_count": 7,
   "id": "d806e1f3-d745-4a5a-9e01-cd13c6a97160",
   "metadata": {},
   "outputs": [
    {
     "data": {
      "text/html": [
       "<div>\n",
       "<style scoped>\n",
       "    .dataframe tbody tr th:only-of-type {\n",
       "        vertical-align: middle;\n",
       "    }\n",
       "\n",
       "    .dataframe tbody tr th {\n",
       "        vertical-align: top;\n",
       "    }\n",
       "\n",
       "    .dataframe thead th {\n",
       "        text-align: right;\n",
       "    }\n",
       "</style>\n",
       "<table border=\"1\" class=\"dataframe\">\n",
       "  <thead>\n",
       "    <tr style=\"text-align: right;\">\n",
       "      <th></th>\n",
       "      <th>Index</th>\n",
       "      <th>Organization Id</th>\n",
       "      <th>Name</th>\n",
       "      <th>Website</th>\n",
       "      <th>Country</th>\n",
       "      <th>Description</th>\n",
       "      <th>Founded</th>\n",
       "      <th>Industry</th>\n",
       "      <th>Number of employees</th>\n",
       "    </tr>\n",
       "  </thead>\n",
       "  <tbody>\n",
       "    <tr>\n",
       "      <th>0</th>\n",
       "      <td>1</td>\n",
       "      <td>FAB0d41d5b5d22c</td>\n",
       "      <td>Ferrell LLC</td>\n",
       "      <td>https://price.net/</td>\n",
       "      <td>Papua New Guinea</td>\n",
       "      <td>Horizontal empowering knowledgebase</td>\n",
       "      <td>1990</td>\n",
       "      <td>Plastics</td>\n",
       "      <td>3498</td>\n",
       "    </tr>\n",
       "    <tr>\n",
       "      <th>1</th>\n",
       "      <td>2</td>\n",
       "      <td>6A7EdDEA9FaDC52</td>\n",
       "      <td>Mckinney, Riley and Day</td>\n",
       "      <td>http://www.hall-buchanan.info/</td>\n",
       "      <td>Finland</td>\n",
       "      <td>User-centric system-worthy leverage</td>\n",
       "      <td>2015</td>\n",
       "      <td>Glass / Ceramics / Concrete</td>\n",
       "      <td>4952</td>\n",
       "    </tr>\n",
       "  </tbody>\n",
       "</table>\n",
       "</div>"
      ],
      "text/plain": [
       "   Index  Organization Id                     Name  \\\n",
       "0      1  FAB0d41d5b5d22c              Ferrell LLC   \n",
       "1      2  6A7EdDEA9FaDC52  Mckinney, Riley and Day   \n",
       "\n",
       "                          Website           Country  \\\n",
       "0              https://price.net/  Papua New Guinea   \n",
       "1  http://www.hall-buchanan.info/           Finland   \n",
       "\n",
       "                           Description  Founded                     Industry  \\\n",
       "0  Horizontal empowering knowledgebase     1990                     Plastics   \n",
       "1  User-centric system-worthy leverage     2015  Glass / Ceramics / Concrete   \n",
       "\n",
       "   Number of employees  \n",
       "0                 3498  \n",
       "1                 4952  "
      ]
     },
     "execution_count": 7,
     "metadata": {},
     "output_type": "execute_result"
    }
   ],
   "source": [
    "df.head(2)"
   ]
  },
  {
   "cell_type": "code",
   "execution_count": 8,
   "id": "78bc56e9-8504-47d0-a48e-22589a0a17c4",
   "metadata": {},
   "outputs": [
    {
     "data": {
      "text/plain": [
       "'2495'"
      ]
     },
     "execution_count": 8,
     "metadata": {},
     "output_type": "execute_result"
    }
   ],
   "source": [
    "str(132495)[-4:]"
   ]
  },
  {
   "cell_type": "code",
   "execution_count": 9,
   "id": "27efc049-05d7-4a26-a290-b38744827d3b",
   "metadata": {},
   "outputs": [],
   "source": [
    "#Now I want only 2 last numbers of the year founded\n",
    "def last_two(num):\n",
    "    return int(str(num)[-2:])"
   ]
  },
  {
   "cell_type": "code",
   "execution_count": 10,
   "id": "1069fc4b-ce47-4611-a339-b6c9af4d2fdc",
   "metadata": {},
   "outputs": [],
   "source": [
    "#Now I want to create a column with all the values passed of Founded Column\n",
    "df['Yr'] = df['Founded'].apply(last_two)"
   ]
  },
  {
   "cell_type": "code",
   "execution_count": 11,
   "id": "3cd86ec5-e330-49ca-ba20-5edda1c95f07",
   "metadata": {},
   "outputs": [
    {
     "data": {
      "text/html": [
       "<div>\n",
       "<style scoped>\n",
       "    .dataframe tbody tr th:only-of-type {\n",
       "        vertical-align: middle;\n",
       "    }\n",
       "\n",
       "    .dataframe tbody tr th {\n",
       "        vertical-align: top;\n",
       "    }\n",
       "\n",
       "    .dataframe thead th {\n",
       "        text-align: right;\n",
       "    }\n",
       "</style>\n",
       "<table border=\"1\" class=\"dataframe\">\n",
       "  <thead>\n",
       "    <tr style=\"text-align: right;\">\n",
       "      <th></th>\n",
       "      <th>Index</th>\n",
       "      <th>Organization Id</th>\n",
       "      <th>Name</th>\n",
       "      <th>Website</th>\n",
       "      <th>Country</th>\n",
       "      <th>Description</th>\n",
       "      <th>Founded</th>\n",
       "      <th>Industry</th>\n",
       "      <th>Number of employees</th>\n",
       "      <th>Yr</th>\n",
       "    </tr>\n",
       "  </thead>\n",
       "  <tbody>\n",
       "    <tr>\n",
       "      <th>0</th>\n",
       "      <td>1</td>\n",
       "      <td>FAB0d41d5b5d22c</td>\n",
       "      <td>Ferrell LLC</td>\n",
       "      <td>https://price.net/</td>\n",
       "      <td>Papua New Guinea</td>\n",
       "      <td>Horizontal empowering knowledgebase</td>\n",
       "      <td>1990</td>\n",
       "      <td>Plastics</td>\n",
       "      <td>3498</td>\n",
       "      <td>90</td>\n",
       "    </tr>\n",
       "    <tr>\n",
       "      <th>1</th>\n",
       "      <td>2</td>\n",
       "      <td>6A7EdDEA9FaDC52</td>\n",
       "      <td>Mckinney, Riley and Day</td>\n",
       "      <td>http://www.hall-buchanan.info/</td>\n",
       "      <td>Finland</td>\n",
       "      <td>User-centric system-worthy leverage</td>\n",
       "      <td>2015</td>\n",
       "      <td>Glass / Ceramics / Concrete</td>\n",
       "      <td>4952</td>\n",
       "      <td>15</td>\n",
       "    </tr>\n",
       "  </tbody>\n",
       "</table>\n",
       "</div>"
      ],
      "text/plain": [
       "   Index  Organization Id                     Name  \\\n",
       "0      1  FAB0d41d5b5d22c              Ferrell LLC   \n",
       "1      2  6A7EdDEA9FaDC52  Mckinney, Riley and Day   \n",
       "\n",
       "                          Website           Country  \\\n",
       "0              https://price.net/  Papua New Guinea   \n",
       "1  http://www.hall-buchanan.info/           Finland   \n",
       "\n",
       "                           Description  Founded                     Industry  \\\n",
       "0  Horizontal empowering knowledgebase     1990                     Plastics   \n",
       "1  User-centric system-worthy leverage     2015  Glass / Ceramics / Concrete   \n",
       "\n",
       "   Number of employees  Yr  \n",
       "0                 3498  90  \n",
       "1                 4952  15  "
      ]
     },
     "execution_count": 11,
     "metadata": {},
     "output_type": "execute_result"
    }
   ],
   "source": [
    "df.head(2)"
   ]
  },
  {
   "cell_type": "code",
   "execution_count": 12,
   "id": "7f436337-cbfe-4d5d-b83c-776ef10885f1",
   "metadata": {},
   "outputs": [],
   "source": [
    "def calcap(num):\n",
    "    if num<1500:\n",
    "        return 'D Class'\n",
    "    elif num>=1500 and num< 3000:\n",
    "        return 'C Class'\n",
    "    elif num>=3000 and num<5000:\n",
    "        return 'B Class'\n",
    "    elif num>=5000 and num<8000:\n",
    "        return 'A Class'\n",
    "    else:\n",
    "        return 'S Class'\n"
   ]
  },
  {
   "cell_type": "code",
   "execution_count": 13,
   "id": "6cbf6be1-6c2c-45bf-8b9c-200def9226c3",
   "metadata": {},
   "outputs": [],
   "source": [
    "df['Cap'] = df['Number of employees'].apply(calcap)"
   ]
  },
  {
   "cell_type": "code",
   "execution_count": 14,
   "id": "61b90e66-a237-4743-a56d-50ec87bceb22",
   "metadata": {
    "scrolled": true
   },
   "outputs": [
    {
     "data": {
      "text/html": [
       "<div>\n",
       "<style scoped>\n",
       "    .dataframe tbody tr th:only-of-type {\n",
       "        vertical-align: middle;\n",
       "    }\n",
       "\n",
       "    .dataframe tbody tr th {\n",
       "        vertical-align: top;\n",
       "    }\n",
       "\n",
       "    .dataframe thead th {\n",
       "        text-align: right;\n",
       "    }\n",
       "</style>\n",
       "<table border=\"1\" class=\"dataframe\">\n",
       "  <thead>\n",
       "    <tr style=\"text-align: right;\">\n",
       "      <th></th>\n",
       "      <th>Index</th>\n",
       "      <th>Organization Id</th>\n",
       "      <th>Name</th>\n",
       "      <th>Website</th>\n",
       "      <th>Country</th>\n",
       "      <th>Description</th>\n",
       "      <th>Founded</th>\n",
       "      <th>Industry</th>\n",
       "      <th>Number of employees</th>\n",
       "      <th>Yr</th>\n",
       "      <th>Cap</th>\n",
       "    </tr>\n",
       "  </thead>\n",
       "  <tbody>\n",
       "    <tr>\n",
       "      <th>0</th>\n",
       "      <td>1</td>\n",
       "      <td>FAB0d41d5b5d22c</td>\n",
       "      <td>Ferrell LLC</td>\n",
       "      <td>https://price.net/</td>\n",
       "      <td>Papua New Guinea</td>\n",
       "      <td>Horizontal empowering knowledgebase</td>\n",
       "      <td>1990</td>\n",
       "      <td>Plastics</td>\n",
       "      <td>3498</td>\n",
       "      <td>90</td>\n",
       "      <td>B Class</td>\n",
       "    </tr>\n",
       "    <tr>\n",
       "      <th>1</th>\n",
       "      <td>2</td>\n",
       "      <td>6A7EdDEA9FaDC52</td>\n",
       "      <td>Mckinney, Riley and Day</td>\n",
       "      <td>http://www.hall-buchanan.info/</td>\n",
       "      <td>Finland</td>\n",
       "      <td>User-centric system-worthy leverage</td>\n",
       "      <td>2015</td>\n",
       "      <td>Glass / Ceramics / Concrete</td>\n",
       "      <td>4952</td>\n",
       "      <td>15</td>\n",
       "      <td>B Class</td>\n",
       "    </tr>\n",
       "    <tr>\n",
       "      <th>2</th>\n",
       "      <td>3</td>\n",
       "      <td>0bFED1ADAE4bcC1</td>\n",
       "      <td>Hester Ltd</td>\n",
       "      <td>http://sullivan-reed.com/</td>\n",
       "      <td>China</td>\n",
       "      <td>Switchable scalable moratorium</td>\n",
       "      <td>1971</td>\n",
       "      <td>Public Safety</td>\n",
       "      <td>5287</td>\n",
       "      <td>71</td>\n",
       "      <td>A Class</td>\n",
       "    </tr>\n",
       "    <tr>\n",
       "      <th>3</th>\n",
       "      <td>4</td>\n",
       "      <td>2bFC1Be8a4ce42f</td>\n",
       "      <td>Holder-Sellers</td>\n",
       "      <td>https://becker.com/</td>\n",
       "      <td>Turkmenistan</td>\n",
       "      <td>De-engineered systemic artificial intelligence</td>\n",
       "      <td>2004</td>\n",
       "      <td>Automotive</td>\n",
       "      <td>921</td>\n",
       "      <td>4</td>\n",
       "      <td>D Class</td>\n",
       "    </tr>\n",
       "    <tr>\n",
       "      <th>4</th>\n",
       "      <td>5</td>\n",
       "      <td>9eE8A6a4Eb96C24</td>\n",
       "      <td>Mayer Group</td>\n",
       "      <td>http://www.brewer.com/</td>\n",
       "      <td>Mauritius</td>\n",
       "      <td>Synchronized needs-based challenge</td>\n",
       "      <td>1991</td>\n",
       "      <td>Transportation</td>\n",
       "      <td>7870</td>\n",
       "      <td>91</td>\n",
       "      <td>A Class</td>\n",
       "    </tr>\n",
       "  </tbody>\n",
       "</table>\n",
       "</div>"
      ],
      "text/plain": [
       "   Index  Organization Id                     Name  \\\n",
       "0      1  FAB0d41d5b5d22c              Ferrell LLC   \n",
       "1      2  6A7EdDEA9FaDC52  Mckinney, Riley and Day   \n",
       "2      3  0bFED1ADAE4bcC1               Hester Ltd   \n",
       "3      4  2bFC1Be8a4ce42f           Holder-Sellers   \n",
       "4      5  9eE8A6a4Eb96C24              Mayer Group   \n",
       "\n",
       "                          Website           Country  \\\n",
       "0              https://price.net/  Papua New Guinea   \n",
       "1  http://www.hall-buchanan.info/           Finland   \n",
       "2       http://sullivan-reed.com/             China   \n",
       "3             https://becker.com/      Turkmenistan   \n",
       "4          http://www.brewer.com/         Mauritius   \n",
       "\n",
       "                                      Description  Founded  \\\n",
       "0             Horizontal empowering knowledgebase     1990   \n",
       "1             User-centric system-worthy leverage     2015   \n",
       "2                  Switchable scalable moratorium     1971   \n",
       "3  De-engineered systemic artificial intelligence     2004   \n",
       "4              Synchronized needs-based challenge     1991   \n",
       "\n",
       "                      Industry  Number of employees  Yr      Cap  \n",
       "0                     Plastics                 3498  90  B Class  \n",
       "1  Glass / Ceramics / Concrete                 4952  15  B Class  \n",
       "2                Public Safety                 5287  71  A Class  \n",
       "3                   Automotive                  921   4  D Class  \n",
       "4               Transportation                 7870  91  A Class  "
      ]
     },
     "execution_count": 14,
     "metadata": {},
     "output_type": "execute_result"
    }
   ],
   "source": [
    "df.head()"
   ]
  },
  {
   "cell_type": "code",
   "execution_count": 15,
   "id": "3db47c9a-b0d6-4fa3-8ce6-c3fa77fb2eab",
   "metadata": {},
   "outputs": [],
   "source": [
    "## Multiple Column"
   ]
  },
  {
   "cell_type": "code",
   "execution_count": 16,
   "id": "b72a140d-3c15-4880-aaf7-4c52a883835f",
   "metadata": {},
   "outputs": [],
   "source": [
    "def qual(num, yr):\n",
    "    if num-yr > 0:\n",
    "        return \"High\"\n",
    "    elif (num-yr) = 0:\n",
    "        return \"Medium\"\n",
    "    else:\n",
    "        return \"Low\""
   ]
  },
  {
   "cell_type": "code",
   "execution_count": 21,
   "id": "55b32978-e13e-4149-8f84-98db2f0c3163",
   "metadata": {},
   "outputs": [],
   "source": [
    "lst = ['Number of employees','Founded']\n",
    "df['Ratio'] = df[lst].apply(lambda df: qual(df['Number of employees'],df['Founded']),axis = 1) "
   ]
  },
  {
   "cell_type": "code",
   "execution_count": 22,
   "id": "d00f68d7-6187-407e-9bea-72ab69a69f96",
   "metadata": {},
   "outputs": [
    {
     "data": {
      "text/plain": [
       "0    Low\n",
       "1    Low\n",
       "2    Low\n",
       "3    Low\n",
       "4    Low\n",
       "Name: Ratio, dtype: object"
      ]
     },
     "execution_count": 22,
     "metadata": {},
     "output_type": "execute_result"
    }
   ],
   "source": [
    "df['Ratio'].head(5)"
   ]
  },
  {
   "cell_type": "code",
   "execution_count": 24,
   "id": "22dfd269-ae14-40c4-b6ee-71c96a12903b",
   "metadata": {},
   "outputs": [],
   "source": [
    "df = df.drop('Ratio',axis = 1)"
   ]
  },
  {
   "cell_type": "code",
   "execution_count": 25,
   "id": "d55a99b3-7a7e-4601-b92f-b2bff88aa1c6",
   "metadata": {},
   "outputs": [],
   "source": [
    "df['Rat'] = np.vectorize(qual)(df['Number of employees'],df['Founded'])"
   ]
  },
  {
   "cell_type": "code",
   "execution_count": 26,
   "id": "3aba6650-e990-4dc5-a419-e0c7321ea3de",
   "metadata": {},
   "outputs": [
    {
     "data": {
      "text/html": [
       "<div>\n",
       "<style scoped>\n",
       "    .dataframe tbody tr th:only-of-type {\n",
       "        vertical-align: middle;\n",
       "    }\n",
       "\n",
       "    .dataframe tbody tr th {\n",
       "        vertical-align: top;\n",
       "    }\n",
       "\n",
       "    .dataframe thead th {\n",
       "        text-align: right;\n",
       "    }\n",
       "</style>\n",
       "<table border=\"1\" class=\"dataframe\">\n",
       "  <thead>\n",
       "    <tr style=\"text-align: right;\">\n",
       "      <th></th>\n",
       "      <th>Index</th>\n",
       "      <th>Organization Id</th>\n",
       "      <th>Name</th>\n",
       "      <th>Website</th>\n",
       "      <th>Country</th>\n",
       "      <th>Description</th>\n",
       "      <th>Founded</th>\n",
       "      <th>Industry</th>\n",
       "      <th>Number of employees</th>\n",
       "      <th>Yr</th>\n",
       "      <th>Cap</th>\n",
       "      <th>Rat</th>\n",
       "    </tr>\n",
       "  </thead>\n",
       "  <tbody>\n",
       "    <tr>\n",
       "      <th>0</th>\n",
       "      <td>1</td>\n",
       "      <td>FAB0d41d5b5d22c</td>\n",
       "      <td>Ferrell LLC</td>\n",
       "      <td>https://price.net/</td>\n",
       "      <td>Papua New Guinea</td>\n",
       "      <td>Horizontal empowering knowledgebase</td>\n",
       "      <td>1990</td>\n",
       "      <td>Plastics</td>\n",
       "      <td>3498</td>\n",
       "      <td>90</td>\n",
       "      <td>B Class</td>\n",
       "      <td>Low</td>\n",
       "    </tr>\n",
       "    <tr>\n",
       "      <th>1</th>\n",
       "      <td>2</td>\n",
       "      <td>6A7EdDEA9FaDC52</td>\n",
       "      <td>Mckinney, Riley and Day</td>\n",
       "      <td>http://www.hall-buchanan.info/</td>\n",
       "      <td>Finland</td>\n",
       "      <td>User-centric system-worthy leverage</td>\n",
       "      <td>2015</td>\n",
       "      <td>Glass / Ceramics / Concrete</td>\n",
       "      <td>4952</td>\n",
       "      <td>15</td>\n",
       "      <td>B Class</td>\n",
       "      <td>Low</td>\n",
       "    </tr>\n",
       "    <tr>\n",
       "      <th>2</th>\n",
       "      <td>3</td>\n",
       "      <td>0bFED1ADAE4bcC1</td>\n",
       "      <td>Hester Ltd</td>\n",
       "      <td>http://sullivan-reed.com/</td>\n",
       "      <td>China</td>\n",
       "      <td>Switchable scalable moratorium</td>\n",
       "      <td>1971</td>\n",
       "      <td>Public Safety</td>\n",
       "      <td>5287</td>\n",
       "      <td>71</td>\n",
       "      <td>A Class</td>\n",
       "      <td>Low</td>\n",
       "    </tr>\n",
       "  </tbody>\n",
       "</table>\n",
       "</div>"
      ],
      "text/plain": [
       "   Index  Organization Id                     Name  \\\n",
       "0      1  FAB0d41d5b5d22c              Ferrell LLC   \n",
       "1      2  6A7EdDEA9FaDC52  Mckinney, Riley and Day   \n",
       "2      3  0bFED1ADAE4bcC1               Hester Ltd   \n",
       "\n",
       "                          Website           Country  \\\n",
       "0              https://price.net/  Papua New Guinea   \n",
       "1  http://www.hall-buchanan.info/           Finland   \n",
       "2       http://sullivan-reed.com/             China   \n",
       "\n",
       "                           Description  Founded                     Industry  \\\n",
       "0  Horizontal empowering knowledgebase     1990                     Plastics   \n",
       "1  User-centric system-worthy leverage     2015  Glass / Ceramics / Concrete   \n",
       "2       Switchable scalable moratorium     1971                Public Safety   \n",
       "\n",
       "   Number of employees  Yr      Cap  Rat  \n",
       "0                 3498  90  B Class  Low  \n",
       "1                 4952  15  B Class  Low  \n",
       "2                 5287  71  A Class  Low  "
      ]
     },
     "execution_count": 26,
     "metadata": {},
     "output_type": "execute_result"
    }
   ],
   "source": [
    "df.head(3)"
   ]
  },
  {
   "cell_type": "code",
   "execution_count": null,
   "id": "10494f51-abcc-44e9-a171-5d6045fb4da6",
   "metadata": {},
   "outputs": [],
   "source": []
  }
 ],
 "metadata": {
  "kernelspec": {
   "display_name": "Python 3 (ipykernel)",
   "language": "python",
   "name": "python3"
  },
  "language_info": {
   "codemirror_mode": {
    "name": "ipython",
    "version": 3
   },
   "file_extension": ".py",
   "mimetype": "text/x-python",
   "name": "python",
   "nbconvert_exporter": "python",
   "pygments_lexer": "ipython3",
   "version": "3.11.3"
  }
 },
 "nbformat": 4,
 "nbformat_minor": 5
}
