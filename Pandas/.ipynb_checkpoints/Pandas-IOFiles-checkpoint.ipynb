{
 "cells": [
  {
   "cell_type": "markdown",
   "id": "fcede897-8830-43bd-950c-8ea26b9ab4e6",
   "metadata": {
    "jp-MarkdownHeadingCollapsed": true
   },
   "source": [
    "# Input and Output - CSV Files"
   ]
  },
  {
   "cell_type": "code",
   "execution_count": 1,
   "id": "3a8f73fe-0542-4968-9cae-5b0ded192622",
   "metadata": {},
   "outputs": [],
   "source": [
    "import pandas as pd"
   ]
  },
  {
   "cell_type": "code",
   "execution_count": 2,
   "id": "d59c17b1-9933-4ea2-9c98-7f82cbfa0e27",
   "metadata": {},
   "outputs": [
    {
     "data": {
      "text/plain": [
       "'C:\\\\Users\\\\prana\\\\Jupyter\\\\Data-Science\\\\Pandas'"
      ]
     },
     "execution_count": 2,
     "metadata": {},
     "output_type": "execute_result"
    }
   ],
   "source": [
    "pwd"
   ]
  },
  {
   "cell_type": "code",
   "execution_count": 3,
   "id": "1eb97ec2-62c9-45d0-a051-f135b1a941da",
   "metadata": {},
   "outputs": [],
   "source": [
    "df = pd.read_csv('C:\\\\Users\\\\prana\\\\Jupyter\\\\Data-Science\\\\Pandas\\\\classg.csv')"
   ]
  },
  {
   "cell_type": "code",
   "execution_count": 4,
   "id": "b46ae0d9-e92c-44db-ac2d-a8ec0259b6ca",
   "metadata": {},
   "outputs": [
    {
     "data": {
      "text/html": [
       "<div>\n",
       "<style scoped>\n",
       "    .dataframe tbody tr th:only-of-type {\n",
       "        vertical-align: middle;\n",
       "    }\n",
       "\n",
       "    .dataframe tbody tr th {\n",
       "        vertical-align: top;\n",
       "    }\n",
       "\n",
       "    .dataframe thead th {\n",
       "        text-align: right;\n",
       "    }\n",
       "</style>\n",
       "<table border=\"1\" class=\"dataframe\">\n",
       "  <thead>\n",
       "    <tr style=\"text-align: right;\">\n",
       "      <th></th>\n",
       "      <th>Prefix</th>\n",
       "      <th>Assignment</th>\n",
       "      <th>Tutorial</th>\n",
       "      <th>Midterm</th>\n",
       "      <th>TakeHome</th>\n",
       "      <th>Final</th>\n",
       "    </tr>\n",
       "  </thead>\n",
       "  <tbody>\n",
       "    <tr>\n",
       "      <th>0</th>\n",
       "      <td>5</td>\n",
       "      <td>57.14</td>\n",
       "      <td>34.09</td>\n",
       "      <td>NaN</td>\n",
       "      <td>51.48</td>\n",
       "      <td>52.50</td>\n",
       "    </tr>\n",
       "    <tr>\n",
       "      <th>1</th>\n",
       "      <td>8</td>\n",
       "      <td>95.05</td>\n",
       "      <td>105.49</td>\n",
       "      <td>67.50</td>\n",
       "      <td>NaN</td>\n",
       "      <td>68.33</td>\n",
       "    </tr>\n",
       "    <tr>\n",
       "      <th>2</th>\n",
       "      <td>8</td>\n",
       "      <td>83.70</td>\n",
       "      <td>83.17</td>\n",
       "      <td>30.00</td>\n",
       "      <td>63.15</td>\n",
       "      <td>48.89</td>\n",
       "    </tr>\n",
       "    <tr>\n",
       "      <th>3</th>\n",
       "      <td>7</td>\n",
       "      <td>81.22</td>\n",
       "      <td>NaN</td>\n",
       "      <td>49.38</td>\n",
       "      <td>105.93</td>\n",
       "      <td>80.56</td>\n",
       "    </tr>\n",
       "    <tr>\n",
       "      <th>4</th>\n",
       "      <td>8</td>\n",
       "      <td>91.32</td>\n",
       "      <td>93.64</td>\n",
       "      <td>95.00</td>\n",
       "      <td>107.41</td>\n",
       "      <td>73.89</td>\n",
       "    </tr>\n",
       "    <tr>\n",
       "      <th>...</th>\n",
       "      <td>...</td>\n",
       "      <td>...</td>\n",
       "      <td>...</td>\n",
       "      <td>...</td>\n",
       "      <td>...</td>\n",
       "      <td>...</td>\n",
       "    </tr>\n",
       "    <tr>\n",
       "      <th>94</th>\n",
       "      <td>8</td>\n",
       "      <td>96.73</td>\n",
       "      <td>103.71</td>\n",
       "      <td>45.00</td>\n",
       "      <td>93.52</td>\n",
       "      <td>61.94</td>\n",
       "    </tr>\n",
       "    <tr>\n",
       "      <th>95</th>\n",
       "      <td>7</td>\n",
       "      <td>85.34</td>\n",
       "      <td>80.54</td>\n",
       "      <td>41.25</td>\n",
       "      <td>93.70</td>\n",
       "      <td>39.72</td>\n",
       "    </tr>\n",
       "    <tr>\n",
       "      <th>96</th>\n",
       "      <td>8</td>\n",
       "      <td>89.94</td>\n",
       "      <td>102.77</td>\n",
       "      <td>87.50</td>\n",
       "      <td>90.74</td>\n",
       "      <td>87.78</td>\n",
       "    </tr>\n",
       "    <tr>\n",
       "      <th>97</th>\n",
       "      <td>7</td>\n",
       "      <td>95.60</td>\n",
       "      <td>76.13</td>\n",
       "      <td>66.25</td>\n",
       "      <td>99.81</td>\n",
       "      <td>85.56</td>\n",
       "    </tr>\n",
       "    <tr>\n",
       "      <th>98</th>\n",
       "      <td>8</td>\n",
       "      <td>63.40</td>\n",
       "      <td>97.37</td>\n",
       "      <td>73.12</td>\n",
       "      <td>72.78</td>\n",
       "      <td>77.22</td>\n",
       "    </tr>\n",
       "  </tbody>\n",
       "</table>\n",
       "<p>99 rows × 6 columns</p>\n",
       "</div>"
      ],
      "text/plain": [
       "    Prefix  Assignment  Tutorial  Midterm  TakeHome  Final\n",
       "0        5       57.14     34.09      NaN     51.48  52.50\n",
       "1        8       95.05    105.49    67.50       NaN  68.33\n",
       "2        8       83.70     83.17    30.00     63.15  48.89\n",
       "3        7       81.22       NaN    49.38    105.93  80.56\n",
       "4        8       91.32     93.64    95.00    107.41  73.89\n",
       "..     ...         ...       ...      ...       ...    ...\n",
       "94       8       96.73    103.71    45.00     93.52  61.94\n",
       "95       7       85.34     80.54    41.25     93.70  39.72\n",
       "96       8       89.94    102.77    87.50     90.74  87.78\n",
       "97       7       95.60     76.13    66.25     99.81  85.56\n",
       "98       8       63.40     97.37    73.12     72.78  77.22\n",
       "\n",
       "[99 rows x 6 columns]"
      ]
     },
     "execution_count": 4,
     "metadata": {},
     "output_type": "execute_result"
    }
   ],
   "source": [
    "df"
   ]
  },
  {
   "cell_type": "code",
   "execution_count": 5,
   "id": "5b36c597-3bce-48af-b52d-1f4ed50ac9e7",
   "metadata": {},
   "outputs": [],
   "source": [
    "df['Tutorial'] = df ['Tutorial'] + 10"
   ]
  },
  {
   "cell_type": "code",
   "execution_count": 6,
   "id": "d09c1766-13b0-404a-9bd6-dbd275475585",
   "metadata": {},
   "outputs": [
    {
     "data": {
      "text/html": [
       "<div>\n",
       "<style scoped>\n",
       "    .dataframe tbody tr th:only-of-type {\n",
       "        vertical-align: middle;\n",
       "    }\n",
       "\n",
       "    .dataframe tbody tr th {\n",
       "        vertical-align: top;\n",
       "    }\n",
       "\n",
       "    .dataframe thead th {\n",
       "        text-align: right;\n",
       "    }\n",
       "</style>\n",
       "<table border=\"1\" class=\"dataframe\">\n",
       "  <thead>\n",
       "    <tr style=\"text-align: right;\">\n",
       "      <th></th>\n",
       "      <th>Prefix</th>\n",
       "      <th>Assignment</th>\n",
       "      <th>Tutorial</th>\n",
       "      <th>Midterm</th>\n",
       "      <th>TakeHome</th>\n",
       "      <th>Final</th>\n",
       "    </tr>\n",
       "  </thead>\n",
       "  <tbody>\n",
       "    <tr>\n",
       "      <th>0</th>\n",
       "      <td>5</td>\n",
       "      <td>57.14</td>\n",
       "      <td>44.09</td>\n",
       "      <td>NaN</td>\n",
       "      <td>51.48</td>\n",
       "      <td>52.50</td>\n",
       "    </tr>\n",
       "    <tr>\n",
       "      <th>1</th>\n",
       "      <td>8</td>\n",
       "      <td>95.05</td>\n",
       "      <td>115.49</td>\n",
       "      <td>67.5</td>\n",
       "      <td>NaN</td>\n",
       "      <td>68.33</td>\n",
       "    </tr>\n",
       "    <tr>\n",
       "      <th>2</th>\n",
       "      <td>8</td>\n",
       "      <td>83.70</td>\n",
       "      <td>93.17</td>\n",
       "      <td>30.0</td>\n",
       "      <td>63.15</td>\n",
       "      <td>48.89</td>\n",
       "    </tr>\n",
       "  </tbody>\n",
       "</table>\n",
       "</div>"
      ],
      "text/plain": [
       "   Prefix  Assignment  Tutorial  Midterm  TakeHome  Final\n",
       "0       5       57.14     44.09      NaN     51.48  52.50\n",
       "1       8       95.05    115.49     67.5       NaN  68.33\n",
       "2       8       83.70     93.17     30.0     63.15  48.89"
      ]
     },
     "execution_count": 6,
     "metadata": {},
     "output_type": "execute_result"
    }
   ],
   "source": [
    "df.head(3)"
   ]
  },
  {
   "cell_type": "code",
   "execution_count": 7,
   "id": "7e69397d-deed-498a-b01d-cc4a5ac74639",
   "metadata": {},
   "outputs": [],
   "source": [
    "df.to_csv('classg2.csv')"
   ]
  },
  {
   "cell_type": "code",
   "execution_count": 8,
   "id": "40ca1ecd-8168-4039-9724-2ee7d05525a2",
   "metadata": {},
   "outputs": [],
   "source": [
    "df1 = pd.read_csv('classg2.csv')"
   ]
  },
  {
   "cell_type": "code",
   "execution_count": 9,
   "id": "cb09ca8c-fe20-46c5-8622-6af4c75f2ee3",
   "metadata": {},
   "outputs": [
    {
     "data": {
      "text/html": [
       "<div>\n",
       "<style scoped>\n",
       "    .dataframe tbody tr th:only-of-type {\n",
       "        vertical-align: middle;\n",
       "    }\n",
       "\n",
       "    .dataframe tbody tr th {\n",
       "        vertical-align: top;\n",
       "    }\n",
       "\n",
       "    .dataframe thead th {\n",
       "        text-align: right;\n",
       "    }\n",
       "</style>\n",
       "<table border=\"1\" class=\"dataframe\">\n",
       "  <thead>\n",
       "    <tr style=\"text-align: right;\">\n",
       "      <th></th>\n",
       "      <th>Unnamed: 0</th>\n",
       "      <th>Prefix</th>\n",
       "      <th>Assignment</th>\n",
       "      <th>Tutorial</th>\n",
       "      <th>Midterm</th>\n",
       "      <th>TakeHome</th>\n",
       "      <th>Final</th>\n",
       "    </tr>\n",
       "  </thead>\n",
       "  <tbody>\n",
       "    <tr>\n",
       "      <th>0</th>\n",
       "      <td>0</td>\n",
       "      <td>5</td>\n",
       "      <td>57.14</td>\n",
       "      <td>44.09</td>\n",
       "      <td>NaN</td>\n",
       "      <td>51.48</td>\n",
       "      <td>52.50</td>\n",
       "    </tr>\n",
       "    <tr>\n",
       "      <th>1</th>\n",
       "      <td>1</td>\n",
       "      <td>8</td>\n",
       "      <td>95.05</td>\n",
       "      <td>115.49</td>\n",
       "      <td>67.5</td>\n",
       "      <td>NaN</td>\n",
       "      <td>68.33</td>\n",
       "    </tr>\n",
       "    <tr>\n",
       "      <th>2</th>\n",
       "      <td>2</td>\n",
       "      <td>8</td>\n",
       "      <td>83.70</td>\n",
       "      <td>93.17</td>\n",
       "      <td>30.0</td>\n",
       "      <td>63.15</td>\n",
       "      <td>48.89</td>\n",
       "    </tr>\n",
       "  </tbody>\n",
       "</table>\n",
       "</div>"
      ],
      "text/plain": [
       "   Unnamed: 0  Prefix  Assignment  Tutorial  Midterm  TakeHome  Final\n",
       "0           0       5       57.14     44.09      NaN     51.48  52.50\n",
       "1           1       8       95.05    115.49     67.5       NaN  68.33\n",
       "2           2       8       83.70     93.17     30.0     63.15  48.89"
      ]
     },
     "execution_count": 9,
     "metadata": {},
     "output_type": "execute_result"
    }
   ],
   "source": [
    "df1.head(3)"
   ]
  },
  {
   "cell_type": "markdown",
   "id": "c7f90c94-429d-4ad5-94ff-9aec843e27aa",
   "metadata": {
    "jp-MarkdownHeadingCollapsed": true
   },
   "source": [
    "# Input and Output HTML Tables"
   ]
  },
  {
   "cell_type": "code",
   "execution_count": 12,
   "id": "426ee691-7a22-4349-90c7-c98b3b06d3fe",
   "metadata": {},
   "outputs": [],
   "source": [
    "import pandas as pd\n",
    "url = 'https://en.wikipedia.org/wiki/Economy_of_India'"
   ]
  },
  {
   "cell_type": "code",
   "execution_count": 13,
   "id": "387eec9b-d8bb-41ad-b8ea-02f3af62d02b",
   "metadata": {},
   "outputs": [],
   "source": [
    "tables = pd.read_html(url)"
   ]
  },
  {
   "cell_type": "markdown",
   "id": "391366de-67b7-40ca-a9e7-915c8aab6536",
   "metadata": {},
   "source": [
    "***The read_html function makes a list of all possible tables in the html file pased***"
   ]
  },
  {
   "cell_type": "code",
   "execution_count": 14,
   "id": "83a6dec1-cb28-44ac-964d-2d32aad287cf",
   "metadata": {},
   "outputs": [
    {
     "data": {
      "text/plain": [
       "39"
      ]
     },
     "execution_count": 14,
     "metadata": {},
     "output_type": "execute_result"
    }
   ],
   "source": [
    "len(tables)"
   ]
  },
  {
   "cell_type": "code",
   "execution_count": 18,
   "id": "eaf48a0b-6364-443e-aaab-09c1651e624d",
   "metadata": {},
   "outputs": [],
   "source": [
    "gdp_his = tables[2]"
   ]
  },
  {
   "cell_type": "code",
   "execution_count": 19,
   "id": "cdecb2c7-b54c-48d7-9987-9106c6fc39cb",
   "metadata": {},
   "outputs": [
    {
     "data": {
      "text/html": [
       "<div>\n",
       "<style scoped>\n",
       "    .dataframe tbody tr th:only-of-type {\n",
       "        vertical-align: middle;\n",
       "    }\n",
       "\n",
       "    .dataframe tbody tr th {\n",
       "        vertical-align: top;\n",
       "    }\n",
       "\n",
       "    .dataframe thead th {\n",
       "        text-align: right;\n",
       "    }\n",
       "</style>\n",
       "<table border=\"1\" class=\"dataframe\">\n",
       "  <thead>\n",
       "    <tr style=\"text-align: right;\">\n",
       "      <th></th>\n",
       "      <th>Year</th>\n",
       "      <th>GDP (in Bil. US$PPP)</th>\n",
       "      <th>GDP per capita (in US$ PPP)</th>\n",
       "      <th>GDP (in Bil. US$nominal)</th>\n",
       "      <th>GDP per capita (in US$ nominal)</th>\n",
       "      <th>GDP growth (real)</th>\n",
       "      <th>Inflation rate (in Percent)</th>\n",
       "      <th>Unemployment (in Percent)</th>\n",
       "      <th>Government debt (in % of GDP)</th>\n",
       "    </tr>\n",
       "  </thead>\n",
       "  <tbody>\n",
       "    <tr>\n",
       "      <th>0</th>\n",
       "      <td>1980</td>\n",
       "      <td>371.9</td>\n",
       "      <td>532.0</td>\n",
       "      <td>189.4</td>\n",
       "      <td>271.0</td>\n",
       "      <td>6.74%</td>\n",
       "      <td>11.3%</td>\n",
       "      <td>NaN</td>\n",
       "      <td>NaN</td>\n",
       "    </tr>\n",
       "    <tr>\n",
       "      <th>1</th>\n",
       "      <td>1981</td>\n",
       "      <td>431.5</td>\n",
       "      <td>603.2</td>\n",
       "      <td>196.5</td>\n",
       "      <td>274.7</td>\n",
       "      <td>6.01%</td>\n",
       "      <td>12.7%</td>\n",
       "      <td>NaN</td>\n",
       "      <td>NaN</td>\n",
       "    </tr>\n",
       "    <tr>\n",
       "      <th>2</th>\n",
       "      <td>1982</td>\n",
       "      <td>474.1</td>\n",
       "      <td>647.5</td>\n",
       "      <td>203.5</td>\n",
       "      <td>278.0</td>\n",
       "      <td>3.5%</td>\n",
       "      <td>7.7%</td>\n",
       "      <td>NaN</td>\n",
       "      <td>NaN</td>\n",
       "    </tr>\n",
       "  </tbody>\n",
       "</table>\n",
       "</div>"
      ],
      "text/plain": [
       "   Year  GDP (in Bil. US$PPP)  GDP per capita (in US$ PPP)  \\\n",
       "0  1980                 371.9                        532.0   \n",
       "1  1981                 431.5                        603.2   \n",
       "2  1982                 474.1                        647.5   \n",
       "\n",
       "   GDP (in Bil. US$nominal)  GDP per capita (in US$ nominal)  \\\n",
       "0                     189.4                            271.0   \n",
       "1                     196.5                            274.7   \n",
       "2                     203.5                            278.0   \n",
       "\n",
       "  GDP growth (real) Inflation rate (in Percent) Unemployment (in Percent)  \\\n",
       "0             6.74%                       11.3%                       NaN   \n",
       "1             6.01%                       12.7%                       NaN   \n",
       "2              3.5%                        7.7%                       NaN   \n",
       "\n",
       "  Government debt (in % of GDP)  \n",
       "0                           NaN  \n",
       "1                           NaN  \n",
       "2                           NaN  "
      ]
     },
     "execution_count": 19,
     "metadata": {},
     "output_type": "execute_result"
    }
   ],
   "source": [
    "gdp_his.head(3)"
   ]
  },
  {
   "cell_type": "code",
   "execution_count": 21,
   "id": "6c083e81-2b00-4da2-823c-f6aab18f3b08",
   "metadata": {},
   "outputs": [],
   "source": [
    "gdp_his = gdp_his.drop('Inflation rate (in Percent)', axis = 1)"
   ]
  },
  {
   "cell_type": "code",
   "execution_count": 22,
   "id": "44dc23bf-3a31-4b72-a357-b9523cc69564",
   "metadata": {},
   "outputs": [
    {
     "data": {
      "text/html": [
       "<div>\n",
       "<style scoped>\n",
       "    .dataframe tbody tr th:only-of-type {\n",
       "        vertical-align: middle;\n",
       "    }\n",
       "\n",
       "    .dataframe tbody tr th {\n",
       "        vertical-align: top;\n",
       "    }\n",
       "\n",
       "    .dataframe thead th {\n",
       "        text-align: right;\n",
       "    }\n",
       "</style>\n",
       "<table border=\"1\" class=\"dataframe\">\n",
       "  <thead>\n",
       "    <tr style=\"text-align: right;\">\n",
       "      <th></th>\n",
       "      <th>Year</th>\n",
       "      <th>GDP (in Bil. US$PPP)</th>\n",
       "      <th>GDP per capita (in US$ PPP)</th>\n",
       "      <th>GDP (in Bil. US$nominal)</th>\n",
       "      <th>GDP per capita (in US$ nominal)</th>\n",
       "      <th>GDP growth (real)</th>\n",
       "      <th>Unemployment (in Percent)</th>\n",
       "      <th>Government debt (in % of GDP)</th>\n",
       "    </tr>\n",
       "  </thead>\n",
       "  <tbody>\n",
       "    <tr>\n",
       "      <th>0</th>\n",
       "      <td>1980</td>\n",
       "      <td>371.9</td>\n",
       "      <td>532.0</td>\n",
       "      <td>189.4</td>\n",
       "      <td>271.0</td>\n",
       "      <td>6.74%</td>\n",
       "      <td>NaN</td>\n",
       "      <td>NaN</td>\n",
       "    </tr>\n",
       "    <tr>\n",
       "      <th>1</th>\n",
       "      <td>1981</td>\n",
       "      <td>431.5</td>\n",
       "      <td>603.2</td>\n",
       "      <td>196.5</td>\n",
       "      <td>274.7</td>\n",
       "      <td>6.01%</td>\n",
       "      <td>NaN</td>\n",
       "      <td>NaN</td>\n",
       "    </tr>\n",
       "    <tr>\n",
       "      <th>2</th>\n",
       "      <td>1982</td>\n",
       "      <td>474.1</td>\n",
       "      <td>647.5</td>\n",
       "      <td>203.5</td>\n",
       "      <td>278.0</td>\n",
       "      <td>3.5%</td>\n",
       "      <td>NaN</td>\n",
       "      <td>NaN</td>\n",
       "    </tr>\n",
       "  </tbody>\n",
       "</table>\n",
       "</div>"
      ],
      "text/plain": [
       "   Year  GDP (in Bil. US$PPP)  GDP per capita (in US$ PPP)  \\\n",
       "0  1980                 371.9                        532.0   \n",
       "1  1981                 431.5                        603.2   \n",
       "2  1982                 474.1                        647.5   \n",
       "\n",
       "   GDP (in Bil. US$nominal)  GDP per capita (in US$ nominal)  \\\n",
       "0                     189.4                            271.0   \n",
       "1                     196.5                            274.7   \n",
       "2                     203.5                            278.0   \n",
       "\n",
       "  GDP growth (real) Unemployment (in Percent) Government debt (in % of GDP)  \n",
       "0             6.74%                       NaN                           NaN  \n",
       "1             6.01%                       NaN                           NaN  \n",
       "2              3.5%                       NaN                           NaN  "
      ]
     },
     "execution_count": 22,
     "metadata": {},
     "output_type": "execute_result"
    }
   ],
   "source": [
    "gdp_his.head(3)"
   ]
  },
  {
   "cell_type": "code",
   "execution_count": 23,
   "id": "8ab20ab5-88f7-4729-af83-e229e8437070",
   "metadata": {},
   "outputs": [],
   "source": [
    "gdp_his.to_csv('IndiaGDP.csv')"
   ]
  },
  {
   "cell_type": "markdown",
   "id": "7c742070-0c6d-4bb6-9021-647d130fa4e6",
   "metadata": {
    "jp-MarkdownHeadingCollapsed": true
   },
   "source": [
    "# Excel Files"
   ]
  },
  {
   "cell_type": "code",
   "execution_count": 24,
   "id": "7e7ae808-bbf0-4a9a-879d-ad2f04e41942",
   "metadata": {},
   "outputs": [],
   "source": [
    "import pandas as pd"
   ]
  },
  {
   "cell_type": "code",
   "execution_count": 27,
   "id": "bae607d0-c0be-42b8-8464-30dfae8b17c9",
   "metadata": {},
   "outputs": [],
   "source": [
    "bgmac = pd.read_excel('big-mac.xls', sheet_name = 'Jan2023')"
   ]
  },
  {
   "cell_type": "code",
   "execution_count": 29,
   "id": "2500cb9e-c46c-453f-9299-e23bbceef544",
   "metadata": {},
   "outputs": [
    {
     "data": {
      "text/html": [
       "<div>\n",
       "<style scoped>\n",
       "    .dataframe tbody tr th:only-of-type {\n",
       "        vertical-align: middle;\n",
       "    }\n",
       "\n",
       "    .dataframe tbody tr th {\n",
       "        vertical-align: top;\n",
       "    }\n",
       "\n",
       "    .dataframe thead th {\n",
       "        text-align: right;\n",
       "    }\n",
       "</style>\n",
       "<table border=\"1\" class=\"dataframe\">\n",
       "  <thead>\n",
       "    <tr style=\"text-align: right;\">\n",
       "      <th></th>\n",
       "      <th>Country</th>\n",
       "      <th>iso_a3</th>\n",
       "      <th>currency_code</th>\n",
       "      <th>local_price</th>\n",
       "      <th>dollar_ex</th>\n",
       "      <th>dollar_price</th>\n",
       "      <th>dollar_ppp</th>\n",
       "      <th>GDP_bigmac</th>\n",
       "      <th>dollar_valuation</th>\n",
       "      <th>euro_valuation</th>\n",
       "      <th>sterling_valuation</th>\n",
       "      <th>yen_valuation</th>\n",
       "      <th>yuan_valuation</th>\n",
       "      <th>dollar_adj_valuation</th>\n",
       "      <th>euro_adj_valuation</th>\n",
       "      <th>sterling_adj_valuation</th>\n",
       "      <th>yen_adj_valuation</th>\n",
       "      <th>yuan_adj_valuation</th>\n",
       "    </tr>\n",
       "  </thead>\n",
       "  <tbody>\n",
       "    <tr>\n",
       "      <th>0</th>\n",
       "      <td>United Arab Emirates</td>\n",
       "      <td>ARE</td>\n",
       "      <td>AED</td>\n",
       "      <td>18.00</td>\n",
       "      <td>3.67300</td>\n",
       "      <td>4.900626</td>\n",
       "      <td>3.358209</td>\n",
       "      <td>52265.827511</td>\n",
       "      <td>-8.570</td>\n",
       "      <td>-7.281</td>\n",
       "      <td>5.001</td>\n",
       "      <td>55.505</td>\n",
       "      <td>38.525</td>\n",
       "      <td>-2.314</td>\n",
       "      <td>-9.890</td>\n",
       "      <td>5.307</td>\n",
       "      <td>58.021</td>\n",
       "      <td>24.962</td>\n",
       "    </tr>\n",
       "    <tr>\n",
       "      <th>1</th>\n",
       "      <td>Argentina</td>\n",
       "      <td>ARG</td>\n",
       "      <td>ARS</td>\n",
       "      <td>980.00</td>\n",
       "      <td>184.69875</td>\n",
       "      <td>5.305937</td>\n",
       "      <td>182.835821</td>\n",
       "      <td>9657.655384</td>\n",
       "      <td>-1.009</td>\n",
       "      <td>0.387</td>\n",
       "      <td>13.686</td>\n",
       "      <td>68.366</td>\n",
       "      <td>49.982</td>\n",
       "      <td>21.184</td>\n",
       "      <td>11.786</td>\n",
       "      <td>30.638</td>\n",
       "      <td>96.033</td>\n",
       "      <td>55.022</td>\n",
       "    </tr>\n",
       "    <tr>\n",
       "      <th>2</th>\n",
       "      <td>Australia</td>\n",
       "      <td>AUS</td>\n",
       "      <td>AUD</td>\n",
       "      <td>7.25</td>\n",
       "      <td>1.41854</td>\n",
       "      <td>5.110888</td>\n",
       "      <td>1.352612</td>\n",
       "      <td>69300.231062</td>\n",
       "      <td>-4.648</td>\n",
       "      <td>-3.303</td>\n",
       "      <td>9.506</td>\n",
       "      <td>62.177</td>\n",
       "      <td>44.469</td>\n",
       "      <td>-3.055</td>\n",
       "      <td>-10.573</td>\n",
       "      <td>4.509</td>\n",
       "      <td>56.823</td>\n",
       "      <td>24.015</td>\n",
       "    </tr>\n",
       "  </tbody>\n",
       "</table>\n",
       "</div>"
      ],
      "text/plain": [
       "                Country iso_a3 currency_code  local_price  dollar_ex  \\\n",
       "0  United Arab Emirates    ARE           AED        18.00    3.67300   \n",
       "1             Argentina    ARG           ARS       980.00  184.69875   \n",
       "2             Australia    AUS           AUD         7.25    1.41854   \n",
       "\n",
       "   dollar_price  dollar_ppp    GDP_bigmac  dollar_valuation  euro_valuation  \\\n",
       "0      4.900626    3.358209  52265.827511            -8.570          -7.281   \n",
       "1      5.305937  182.835821   9657.655384            -1.009           0.387   \n",
       "2      5.110888    1.352612  69300.231062            -4.648          -3.303   \n",
       "\n",
       "   sterling_valuation  yen_valuation  yuan_valuation  dollar_adj_valuation  \\\n",
       "0               5.001         55.505          38.525                -2.314   \n",
       "1              13.686         68.366          49.982                21.184   \n",
       "2               9.506         62.177          44.469                -3.055   \n",
       "\n",
       "   euro_adj_valuation  sterling_adj_valuation  yen_adj_valuation  \\\n",
       "0              -9.890                   5.307             58.021   \n",
       "1              11.786                  30.638             96.033   \n",
       "2             -10.573                   4.509             56.823   \n",
       "\n",
       "   yuan_adj_valuation  \n",
       "0              24.962  \n",
       "1              55.022  \n",
       "2              24.015  "
      ]
     },
     "execution_count": 29,
     "metadata": {},
     "output_type": "execute_result"
    }
   ],
   "source": [
    "bgmac.head(3)"
   ]
  },
  {
   "cell_type": "code",
   "execution_count": 30,
   "id": "c86571ec-f671-46b2-8daf-da7198ec5196",
   "metadata": {},
   "outputs": [],
   "source": [
    "bgmac.to_csv('mac-index-jan23.csv')"
   ]
  },
  {
   "cell_type": "markdown",
   "id": "1c0701eb-d226-4581-822d-5ae5a6d79848",
   "metadata": {},
   "source": [
    "# SQL database files"
   ]
  },
  {
   "cell_type": "code",
   "execution_count": 33,
   "id": "f0b02f2c-981f-4be9-a881-f6018f526702",
   "metadata": {},
   "outputs": [],
   "source": [
    "from sqlalchemy import create_engine"
   ]
  },
  {
   "cell_type": "code",
   "execution_count": 34,
   "id": "65615147-5a86-4618-a1d2-5c90d90ab2b7",
   "metadata": {},
   "outputs": [],
   "source": [
    "temp_db = create_engine('sqlite:///:memory:')"
   ]
  }
 ],
 "metadata": {
  "kernelspec": {
   "display_name": "Python 3 (ipykernel)",
   "language": "python",
   "name": "python3"
  },
  "language_info": {
   "codemirror_mode": {
    "name": "ipython",
    "version": 3
   },
   "file_extension": ".py",
   "mimetype": "text/x-python",
   "name": "python",
   "nbconvert_exporter": "python",
   "pygments_lexer": "ipython3",
   "version": "3.11.3"
  }
 },
 "nbformat": 4,
 "nbformat_minor": 5
}
