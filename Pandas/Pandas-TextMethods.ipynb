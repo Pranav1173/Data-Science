{
 "cells": [
  {
   "cell_type": "markdown",
   "id": "d1cdd570-5132-4420-b505-461029c413aa",
   "metadata": {},
   "source": [
    "# Text Methods for String Data"
   ]
  },
  {
   "cell_type": "code",
   "execution_count": 1,
   "id": "8287e2e6-e870-41b1-b187-8d405d655a25",
   "metadata": {},
   "outputs": [],
   "source": [
    "import numpy as np\n",
    "import pandas as pd"
   ]
  },
  {
   "cell_type": "code",
   "execution_count": 2,
   "id": "feb2727f-b3c6-421f-afa1-052e8620e1cc",
   "metadata": {},
   "outputs": [],
   "source": [
    "names = pd.Series(['Sam', 'Ram', 'Mohan', '4'])"
   ]
  },
  {
   "cell_type": "code",
   "execution_count": 3,
   "id": "49a7c7aa-5207-4d1d-a331-37be2fdc7a6d",
   "metadata": {},
   "outputs": [
    {
     "data": {
      "text/plain": [
       "0      Sam\n",
       "1      Ram\n",
       "2    Mohan\n",
       "3        4\n",
       "dtype: object"
      ]
     },
     "execution_count": 3,
     "metadata": {},
     "output_type": "execute_result"
    }
   ],
   "source": [
    "names"
   ]
  },
  {
   "cell_type": "code",
   "execution_count": 4,
   "id": "c5d3f3d8-593d-4bc4-8f98-33dd367dcce0",
   "metadata": {},
   "outputs": [
    {
     "data": {
      "text/plain": [
       "0    False\n",
       "1    False\n",
       "2    False\n",
       "3     True\n",
       "dtype: bool"
      ]
     },
     "execution_count": 4,
     "metadata": {},
     "output_type": "execute_result"
    }
   ],
   "source": [
    "names.str.isdigit()"
   ]
  },
  {
   "cell_type": "code",
   "execution_count": 5,
   "id": "2ae7d7a3-4cb4-45a9-b420-708e29f37300",
   "metadata": {},
   "outputs": [
    {
     "data": {
      "text/plain": [
       "0      SAM\n",
       "1      RAM\n",
       "2    MOHAN\n",
       "3        4\n",
       "dtype: object"
      ]
     },
     "execution_count": 5,
     "metadata": {},
     "output_type": "execute_result"
    }
   ],
   "source": [
    "names.str.upper()"
   ]
  },
  {
   "cell_type": "markdown",
   "id": "3ff5021b-21af-4f39-b23a-b0b697502200",
   "metadata": {},
   "source": [
    "# Text Methods for Date and Time Data"
   ]
  },
  {
   "cell_type": "code",
   "execution_count": 6,
   "id": "c79b32c8-b879-46ea-ba41-ee95fbc51f58",
   "metadata": {},
   "outputs": [],
   "source": [
    "import numpy as np\n",
    "import pandas as pd\n",
    "from datetime import datetime"
   ]
  },
  {
   "cell_type": "code",
   "execution_count": 7,
   "id": "576314e6-f8c3-43f1-b911-da30e2f20ea2",
   "metadata": {},
   "outputs": [],
   "source": [
    "yr = 2003\n",
    "month = 7\n",
    "day = 11\n",
    "hr = 9\n",
    "min = 27\n",
    "sec = 12"
   ]
  },
  {
   "cell_type": "code",
   "execution_count": 8,
   "id": "d786bc24-df5e-4197-8cc3-23948ca4ae94",
   "metadata": {},
   "outputs": [],
   "source": [
    "mydatetime = datetime(yr,month,day,hr,min,sec)"
   ]
  },
  {
   "cell_type": "code",
   "execution_count": 9,
   "id": "657ed9eb-e9e3-4272-8f2f-f71f4335413a",
   "metadata": {},
   "outputs": [
    {
     "data": {
      "text/plain": [
       "datetime.datetime(2003, 7, 11, 9, 27, 12)"
      ]
     },
     "execution_count": 9,
     "metadata": {},
     "output_type": "execute_result"
    }
   ],
   "source": [
    "mydatetime"
   ]
  },
  {
   "cell_type": "code",
   "execution_count": 10,
   "id": "9b3043f9-d6b6-4e68-8b43-488bb74fc417",
   "metadata": {},
   "outputs": [
    {
     "data": {
      "text/plain": [
       "12"
      ]
     },
     "execution_count": 10,
     "metadata": {},
     "output_type": "execute_result"
    }
   ],
   "source": [
    "mydatetime.second"
   ]
  },
  {
   "cell_type": "code",
   "execution_count": 11,
   "id": "9d13c9e2-163a-49e5-aacc-2e73161130e3",
   "metadata": {},
   "outputs": [],
   "source": [
    "myser = pd.Series(['July 11, 2003'])"
   ]
  },
  {
   "cell_type": "code",
   "execution_count": 12,
   "id": "39b61c2f-7e63-4235-8877-f9a1dc0ecba2",
   "metadata": {},
   "outputs": [
    {
     "ename": "AttributeError",
     "evalue": "'str' object has no attribute 'year'",
     "output_type": "error",
     "traceback": [
      "\u001b[1;31m---------------------------------------------------------------------------\u001b[0m",
      "\u001b[1;31mAttributeError\u001b[0m                            Traceback (most recent call last)",
      "Cell \u001b[1;32mIn[12], line 1\u001b[0m\n\u001b[1;32m----> 1\u001b[0m \u001b[43mmyser\u001b[49m\u001b[43m[\u001b[49m\u001b[38;5;241;43m0\u001b[39;49m\u001b[43m]\u001b[49m\u001b[38;5;241;43m.\u001b[39;49m\u001b[43myear\u001b[49m\n",
      "\u001b[1;31mAttributeError\u001b[0m: 'str' object has no attribute 'year'"
     ]
    }
   ],
   "source": [
    "myser[0].year"
   ]
  },
  {
   "cell_type": "code",
   "execution_count": null,
   "id": "f12fdd98-d50a-4c0c-a2d0-98de75416899",
   "metadata": {},
   "outputs": [],
   "source": [
    "timser = pd.to_datetime(myser)"
   ]
  },
  {
   "cell_type": "code",
   "execution_count": null,
   "id": "c9e28b1a-1933-4478-b742-d87df26626d4",
   "metadata": {},
   "outputs": [],
   "source": [
    "timser"
   ]
  },
  {
   "cell_type": "code",
   "execution_count": null,
   "id": "6acbaf32-5e78-44f3-a97f-2c0e534f8e59",
   "metadata": {},
   "outputs": [],
   "source": [
    "timser[0].second"
   ]
  },
  {
   "cell_type": "code",
   "execution_count": null,
   "id": "96b27486-f04d-4f1f-b945-fa8b16fb78ce",
   "metadata": {},
   "outputs": [],
   "source": [
    "timser[0].day_name()"
   ]
  },
  {
   "cell_type": "code",
   "execution_count": null,
   "id": "19dd1415-3202-454b-958c-8df0e875c88e",
   "metadata": {},
   "outputs": [],
   "source": [
    "style_date = '12--Dec--2003'"
   ]
  },
  {
   "cell_type": "code",
   "execution_count": null,
   "id": "fa39ea13-9f3b-473c-809b-5d01507759b7",
   "metadata": {},
   "outputs": [],
   "source": [
    "pd.to_datetime(style_date, format = '%d--%B--%Y')"
   ]
  },
  {
   "cell_type": "code",
   "execution_count": null,
   "id": "ea5c29ee-75ab-4e1f-bade-e5ae99ba37e4",
   "metadata": {},
   "outputs": [],
   "source": []
  }
 ],
 "metadata": {
  "kernelspec": {
   "display_name": "Python 3 (ipykernel)",
   "language": "python",
   "name": "python3"
  },
  "language_info": {
   "codemirror_mode": {
    "name": "ipython",
    "version": 3
   },
   "file_extension": ".py",
   "mimetype": "text/x-python",
   "name": "python",
   "nbconvert_exporter": "python",
   "pygments_lexer": "ipython3",
   "version": "3.11.3"
  }
 },
 "nbformat": 4,
 "nbformat_minor": 5
}
