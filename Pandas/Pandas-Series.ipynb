{
 "cells": [
  {
   "cell_type": "code",
   "execution_count": 1,
   "id": "4911cfa5-50b8-4bc9-ab7d-45c6fb1a8725",
   "metadata": {},
   "outputs": [],
   "source": [
    "import pandas as pd"
   ]
  },
  {
   "cell_type": "code",
   "execution_count": 2,
   "id": "b7f7851f-a673-42fe-ac98-00c333649e22",
   "metadata": {},
   "outputs": [],
   "source": [
    "import numpy as np"
   ]
  },
  {
   "cell_type": "code",
   "execution_count": 3,
   "id": "d08db615-c7fc-4079-a6a9-269e1e7ec8b7",
   "metadata": {},
   "outputs": [
    {
     "name": "stdout",
     "output_type": "stream",
     "text": [
      "South Korea    1945\n",
      "India          1947\n",
      "Bangladesh     1971\n",
      "dtype: int64\n"
     ]
    }
   ],
   "source": [
    "myindex = ['South Korea', 'India', 'Bangladesh']\n",
    "mydata = [1945,1947,1971]\n",
    "myser = pd.Series(mydata,myindex)\n",
    "print(myser)"
   ]
  },
  {
   "cell_type": "code",
   "execution_count": 5,
   "id": "33ab600b-9536-4154-922b-20ea9578d9e0",
   "metadata": {},
   "outputs": [
    {
     "data": {
      "text/plain": [
       "1945"
      ]
     },
     "execution_count": 5,
     "metadata": {},
     "output_type": "execute_result"
    }
   ],
   "source": [
    "myser['South Korea']"
   ]
  },
  {
   "cell_type": "code",
   "execution_count": 6,
   "id": "e11f2575-387f-4a99-bcf4-e1aa4323c29b",
   "metadata": {},
   "outputs": [],
   "source": [
    "ages = {'Ram':14,'Suresh':47,'Mohan':21}"
   ]
  },
  {
   "cell_type": "code",
   "execution_count": 7,
   "id": "0d447f31-8dc5-41b1-a46a-51ec26b6f30b",
   "metadata": {},
   "outputs": [
    {
     "data": {
      "text/plain": [
       "Ram       14\n",
       "Suresh    47\n",
       "Mohan     21\n",
       "dtype: int64"
      ]
     },
     "execution_count": 7,
     "metadata": {},
     "output_type": "execute_result"
    }
   ],
   "source": [
    "pd.Series(ages)"
   ]
  },
  {
   "cell_type": "code",
   "execution_count": 10,
   "id": "8ef7168a-a419-4e23-acbc-e48130493322",
   "metadata": {},
   "outputs": [
    {
     "name": "stdout",
     "output_type": "stream",
     "text": [
      "Japan     80\n",
      "China    340\n",
      "India    420\n",
      "USA      605\n",
      "dtype: int64\n",
      "Brazil    145\n",
      "China     480\n",
      "India     725\n",
      "USA       690\n",
      "dtype: int64\n"
     ]
    }
   ],
   "source": [
    "q1 = {'Japan':80, 'China': 340, 'India':420, 'USA':605}\n",
    "q2 = {'Brazil': 145, 'China': 480, 'India':725, 'USA':690}\n",
    "\n",
    "sales_q1 = pd.Series(q1)\n",
    "sales_q2 = pd.Series(q2)\n",
    "print(sales_q1)\n",
    "print(sales_q2)"
   ]
  },
  {
   "cell_type": "code",
   "execution_count": 11,
   "id": "0959330d-1b36-470a-85b3-8c19d918162b",
   "metadata": {},
   "outputs": [
    {
     "data": {
      "text/plain": [
       "Japan     88.0\n",
       "China    374.0\n",
       "India    462.0\n",
       "USA      665.5\n",
       "dtype: float64"
      ]
     },
     "execution_count": 11,
     "metadata": {},
     "output_type": "execute_result"
    }
   ],
   "source": [
    "sales_q1 * 1.1"
   ]
  },
  {
   "cell_type": "code",
   "execution_count": 12,
   "id": "6700153c-1108-474b-bd05-d6a91b59df2e",
   "metadata": {},
   "outputs": [
    {
     "data": {
      "text/plain": [
       "Brazil       NaN\n",
       "China      820.0\n",
       "India     1145.0\n",
       "Japan        NaN\n",
       "USA       1295.0\n",
       "dtype: float64"
      ]
     },
     "execution_count": 12,
     "metadata": {},
     "output_type": "execute_result"
    }
   ],
   "source": [
    "sales_q1 + sales_q2"
   ]
  },
  {
   "cell_type": "code",
   "execution_count": 15,
   "id": "bbe28f02-9f3e-41b3-bbaa-7764aee024ec",
   "metadata": {},
   "outputs": [
    {
     "data": {
      "text/plain": [
       "Brazil     145.0\n",
       "China      820.0\n",
       "India     1145.0\n",
       "Japan       80.0\n",
       "USA       1295.0\n",
       "dtype: float64"
      ]
     },
     "execution_count": 15,
     "metadata": {},
     "output_type": "execute_result"
    }
   ],
   "source": [
    "sales_q1.add(sales_q2, fill_value = 0)"
   ]
  },
  {
   "cell_type": "code",
   "execution_count": 16,
   "id": "7d0c1329-cd43-4146-8e6b-6be781542b51",
   "metadata": {},
   "outputs": [
    {
     "data": {
      "text/plain": [
       "Index(['Brazil', 'China', 'India', 'USA'], dtype='object')"
      ]
     },
     "execution_count": 16,
     "metadata": {},
     "output_type": "execute_result"
    }
   ],
   "source": [
    "sales_q2.keys()"
   ]
  },
  {
   "cell_type": "code",
   "execution_count": 17,
   "id": "cc9ee32a-afbc-4ae7-8b40-800484600017",
   "metadata": {},
   "outputs": [
    {
     "data": {
      "text/plain": [
       "Brazil    180\n",
       "China     515\n",
       "India     760\n",
       "USA       725\n",
       "dtype: int64"
      ]
     },
     "execution_count": 17,
     "metadata": {},
     "output_type": "execute_result"
    }
   ],
   "source": [
    "sales_q2 + 35"
   ]
  },
  {
   "cell_type": "code",
   "execution_count": null,
   "id": "ff91706b-6159-4a2f-b854-1b9891c13542",
   "metadata": {},
   "outputs": [],
   "source": []
  }
 ],
 "metadata": {
  "kernelspec": {
   "display_name": "Python 3 (ipykernel)",
   "language": "python",
   "name": "python3"
  },
  "language_info": {
   "codemirror_mode": {
    "name": "ipython",
    "version": 3
   },
   "file_extension": ".py",
   "mimetype": "text/x-python",
   "name": "python",
   "nbconvert_exporter": "python",
   "pygments_lexer": "ipython3",
   "version": "3.11.3"
  }
 },
 "nbformat": 4,
 "nbformat_minor": 5
}
