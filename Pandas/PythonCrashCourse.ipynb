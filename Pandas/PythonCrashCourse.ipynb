{
 "cells": [
  {
   "cell_type": "markdown",
   "id": "1d40d2f0",
   "metadata": {},
   "source": [
    "Q1. What is 7 to the power 4?"
   ]
  },
  {
   "cell_type": "code",
   "execution_count": 1,
   "id": "0bb49f6c",
   "metadata": {},
   "outputs": [
    {
     "data": {
      "text/plain": [
       "2401"
      ]
     },
     "execution_count": 1,
     "metadata": {},
     "output_type": "execute_result"
    }
   ],
   "source": [
    "7**4"
   ]
  },
  {
   "cell_type": "markdown",
   "id": "ea36f7cd",
   "metadata": {},
   "source": [
    "Split the string"
   ]
  },
  {
   "cell_type": "code",
   "execution_count": 4,
   "id": "6a67e094",
   "metadata": {},
   "outputs": [],
   "source": [
    "s1 = 'Hi, I am Sam'\n",
    "mylist = s1.split()"
   ]
  },
  {
   "cell_type": "code",
   "execution_count": 6,
   "id": "20feeb25",
   "metadata": {},
   "outputs": [
    {
     "name": "stdout",
     "output_type": "stream",
     "text": [
      "['Hi,', 'I', 'am', 'Sam']\n"
     ]
    }
   ],
   "source": [
    "print(mylist)"
   ]
  },
  {
   "cell_type": "markdown",
   "id": "f3d77f48",
   "metadata": {},
   "source": [
    "Use .format()"
   ]
  },
  {
   "cell_type": "code",
   "execution_count": 8,
   "id": "3c2a8d13",
   "metadata": {},
   "outputs": [],
   "source": [
    "planet = 'Earth'\n",
    "diameter = 12742"
   ]
  },
  {
   "cell_type": "code",
   "execution_count": 10,
   "id": "ed826a36",
   "metadata": {},
   "outputs": [
    {
     "name": "stdout",
     "output_type": "stream",
     "text": [
      "The diameter of the Earth is 12742\n"
     ]
    }
   ],
   "source": [
    "print(\"The diameter of the {x} is {y}\".format(x = planet, y = diameter))"
   ]
  },
  {
   "cell_type": "markdown",
   "id": "c9deb68e",
   "metadata": {},
   "source": [
    "Use Indexing to grab word Hello"
   ]
  },
  {
   "cell_type": "code",
   "execution_count": 11,
   "id": "af060830",
   "metadata": {},
   "outputs": [],
   "source": [
    "lst = [1,2,[3,4],[5,[100,200,['Hello']],23,11],1,7]"
   ]
  },
  {
   "cell_type": "code",
   "execution_count": 12,
   "id": "0e30ab76",
   "metadata": {},
   "outputs": [
    {
     "name": "stdout",
     "output_type": "stream",
     "text": [
      "['Hello']\n"
     ]
    }
   ],
   "source": [
    "print(lst[3][1][2])"
   ]
  },
  {
   "cell_type": "markdown",
   "id": "aa9afe04",
   "metadata": {},
   "source": [
    "Function to check if 'dog' in string and return true"
   ]
  },
  {
   "cell_type": "code",
   "execution_count": 15,
   "id": "7590f853",
   "metadata": {},
   "outputs": [],
   "source": [
    "def check_dog(name):\n",
    "    return 'dog' in name.lower().split()"
   ]
  },
  {
   "cell_type": "code",
   "execution_count": 16,
   "id": "cca8e502",
   "metadata": {},
   "outputs": [
    {
     "name": "stdout",
     "output_type": "stream",
     "text": [
      "Enter the string: dog is best friend\n",
      "True\n"
     ]
    }
   ],
   "source": [
    "str = input(\"Enter the string: \")\n",
    "print(check_dog(str))\n"
   ]
  },
  {
   "cell_type": "markdown",
   "id": "e4898dbd",
   "metadata": {},
   "source": []
  }
 ],
 "metadata": {
  "kernelspec": {
   "display_name": "Python 3 (ipykernel)",
   "language": "python",
   "name": "python3"
  },
  "language_info": {
   "codemirror_mode": {
    "name": "ipython",
    "version": 3
   },
   "file_extension": ".py",
   "mimetype": "text/x-python",
   "name": "python",
   "nbconvert_exporter": "python",
   "pygments_lexer": "ipython3",
   "version": "3.11.3"
  }
 },
 "nbformat": 4,
 "nbformat_minor": 5
}
