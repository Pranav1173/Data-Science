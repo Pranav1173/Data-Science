{
 "cells": [
  {
   "cell_type": "code",
   "execution_count": 2,
   "id": "293b5ba9",
   "metadata": {},
   "outputs": [],
   "source": [
    "import numpy as np\n",
    "import matplotlib.pyplot as plt"
   ]
  },
  {
   "cell_type": "code",
   "execution_count": 3,
   "id": "1f6076f5",
   "metadata": {},
   "outputs": [],
   "source": [
    "matrix = [(1,2,3),(4,5,6),(7,8,9)]"
   ]
  },
  {
   "cell_type": "code",
   "execution_count": 4,
   "id": "c761cb3f",
   "metadata": {},
   "outputs": [
    {
     "name": "stdout",
     "output_type": "stream",
     "text": [
      "[[1 2 3]\n",
      " [4 5 6]\n",
      " [7 8 9]]\n"
     ]
    }
   ],
   "source": [
    "np_matrix = np.array(matrix)\n",
    "print(np_matrix)"
   ]
  },
  {
   "cell_type": "code",
   "execution_count": 5,
   "id": "a9eac232-2923-4bfb-a650-f5e1594d0a58",
   "metadata": {},
   "outputs": [
    {
     "name": "stdout",
     "output_type": "stream",
     "text": [
      "[  0   2   4   6   8  10  12  14  16  18  20  22  24  26  28  30  32  34\n",
      "  36  38  40  42  44  46  48  50  52  54  56  58  60  62  64  66  68  70\n",
      "  72  74  76  78  80  82  84  86  88  90  92  94  96  98 100]\n"
     ]
    }
   ],
   "source": [
    "arr = np.arange(0,101,2)\n",
    "print(arr)"
   ]
  },
  {
   "cell_type": "code",
   "execution_count": 3,
   "id": "21b06603-0905-44cd-ae0f-7292d56ace0d",
   "metadata": {},
   "outputs": [
    {
     "name": "stdout",
     "output_type": "stream",
     "text": [
      "[[0 0 0 0]\n",
      " [0 0 0 0]\n",
      " [0 0 0 0]]\n"
     ]
    }
   ],
   "source": [
    "arr0 = np.zeros((3,4),int)\n",
    "print(arr0)"
   ]
  },
  {
   "cell_type": "code",
   "execution_count": 17,
   "id": "e835fc4f-ad7b-43bd-848d-dfcd2c9bcc9b",
   "metadata": {},
   "outputs": [
    {
     "name": "stdout",
     "output_type": "stream",
     "text": [
      "[[1 1]\n",
      " [1 1]\n",
      " [1 1]]\n"
     ]
    }
   ],
   "source": [
    "arr1 = np.ones((3,2),dtype = int)\n",
    "print(arr1)"
   ]
  },
  {
   "cell_type": "code",
   "execution_count": 18,
   "id": "60411d19-46e1-4954-bece-ab94251f263b",
   "metadata": {},
   "outputs": [
    {
     "name": "stdout",
     "output_type": "stream",
     "text": [
      "[ 0.          1.66666667  3.33333333  5.          6.66666667  8.33333333\n",
      " 10.        ]\n"
     ]
    }
   ],
   "source": [
    "lns = np.linspace(0,10,7);\n",
    "print(lns)"
   ]
  },
  {
   "cell_type": "code",
   "execution_count": 15,
   "id": "90e1ff94-6dfb-48cc-a3c2-bf08b97c173e",
   "metadata": {},
   "outputs": [
    {
     "name": "stdout",
     "output_type": "stream",
     "text": [
      "[[1 0 0]\n",
      " [0 1 0]\n",
      " [0 0 1]]\n"
     ]
    }
   ],
   "source": [
    "idm = np.eye(3, dtype = int)\n",
    "print(idm)"
   ]
  },
  {
   "cell_type": "code",
   "execution_count": 5,
   "id": "ed0dded2-1a20-4fb8-b313-b827b219f699",
   "metadata": {},
   "outputs": [
    {
     "name": "stdout",
     "output_type": "stream",
     "text": [
      "[[0.736455   0.35835556 0.44463067 0.92965334]\n",
      " [0.18201919 0.6071899  0.68546116 0.24419834]\n",
      " [0.38705329 0.13586457 0.95120894 0.30417257]\n",
      " [0.50434958 0.89141727 0.17742057 0.85162044]\n",
      " [0.77509734 0.79802127 0.90056695 0.92197791]]\n"
     ]
    }
   ],
   "source": [
    "randarr = np.random.rand(5,4)\n",
    "print(randarr)"
   ]
  },
  {
   "cell_type": "code",
   "execution_count": 7,
   "id": "6b3db2f3-4b3f-4ec2-8d9d-a2ff87f10581",
   "metadata": {},
   "outputs": [
    {
     "name": "stdout",
     "output_type": "stream",
     "text": [
      "[[-3.04594641e-01 -1.14343966e+00 -4.32441431e-01]\n",
      " [ 8.23395373e-01  9.05571546e-05  9.27586041e-01]]\n"
     ]
    }
   ],
   "source": [
    "randnarr = np.random.randn(2,3)\n",
    "print(randnarr)"
   ]
  },
  {
   "cell_type": "code",
   "execution_count": 29,
   "id": "46926239-e57f-438b-ba3f-d0ecb4042d55",
   "metadata": {},
   "outputs": [
    {
     "name": "stdout",
     "output_type": "stream",
     "text": [
      "[82 86 74 74 87 99 23  2 21 52  1 87 29 37  1 63 59 20 32 75 57 21 88 48\n",
      " 90]\n"
     ]
    }
   ],
   "source": [
    "ranint = np.random.randint(0,101,25)\n",
    "print(ranint)"
   ]
  },
  {
   "cell_type": "code",
   "execution_count": 10,
   "id": "1765cf04-aa3c-478f-8f27-17ab342f171b",
   "metadata": {},
   "outputs": [
    {
     "name": "stdout",
     "output_type": "stream",
     "text": [
      "[[4 4]\n",
      " [1 9]\n",
      " [2 1]]\n"
     ]
    }
   ],
   "source": [
    "rain = np.random.randint(1,25,(3,2))\n",
    "print(rain)"
   ]
  },
  {
   "cell_type": "code",
   "execution_count": 14,
   "id": "8371fd0c-c61b-4453-a2d0-9906a3134c94",
   "metadata": {},
   "outputs": [
    {
     "name": "stdout",
     "output_type": "stream",
     "text": [
      "[38 51 28 14 42  7 20 38]\n"
     ]
    }
   ],
   "source": [
    "np.random.seed(42)\n",
    "ar = np.random.randint(0,59,8)\n",
    "print(ar)"
   ]
  },
  {
   "cell_type": "code",
   "execution_count": 15,
   "id": "c21a6309-c7ca-499f-a746-515c7536e9eb",
   "metadata": {},
   "outputs": [
    {
     "data": {
      "text/plain": [
       "array([[38, 51, 28, 14],\n",
       "       [42,  7, 20, 38]])"
      ]
     },
     "execution_count": 15,
     "metadata": {},
     "output_type": "execute_result"
    }
   ],
   "source": [
    "ar.reshape(2,4)"
   ]
  },
  {
   "cell_type": "code",
   "execution_count": 17,
   "id": "b2fcf4e1-9d64-4770-8c97-094e6d7cc5c5",
   "metadata": {},
   "outputs": [
    {
     "data": {
      "text/plain": [
       "dtype('int32')"
      ]
     },
     "execution_count": 17,
     "metadata": {},
     "output_type": "execute_result"
    }
   ],
   "source": [
    "ar.dtype"
   ]
  },
  {
   "cell_type": "code",
   "execution_count": 18,
   "id": "3bc0cabd-7e86-444d-a982-4e9eebba8992",
   "metadata": {},
   "outputs": [
    {
     "data": {
      "text/plain": [
       "51"
      ]
     },
     "execution_count": 18,
     "metadata": {},
     "output_type": "execute_result"
    }
   ],
   "source": [
    "ar.max()"
   ]
  },
  {
   "cell_type": "code",
   "execution_count": 19,
   "id": "c2d7150f-776c-4135-8dab-a3aacd345ec0",
   "metadata": {},
   "outputs": [
    {
     "data": {
      "text/plain": [
       "7"
      ]
     },
     "execution_count": 19,
     "metadata": {},
     "output_type": "execute_result"
    }
   ],
   "source": [
    "ar.min()"
   ]
  },
  {
   "cell_type": "code",
   "execution_count": 21,
   "id": "4cab3335-009f-4810-a4bb-24c20859d5f6",
   "metadata": {},
   "outputs": [
    {
     "data": {
      "text/plain": [
       "1"
      ]
     },
     "execution_count": 21,
     "metadata": {},
     "output_type": "execute_result"
    }
   ],
   "source": [
    "ar.argmax()"
   ]
  },
  {
   "cell_type": "code",
   "execution_count": 22,
   "id": "f8568273-3651-4238-8374-7b151b070e9e",
   "metadata": {},
   "outputs": [
    {
     "data": {
      "text/plain": [
       "5"
      ]
     },
     "execution_count": 22,
     "metadata": {},
     "output_type": "execute_result"
    }
   ],
   "source": [
    "ar.argmin()"
   ]
  },
  {
   "cell_type": "code",
   "execution_count": 26,
   "id": "2009cd39-45c4-4820-8bfb-c4904aa62953",
   "metadata": {},
   "outputs": [],
   "source": [
    "slice_of_ar = ar[0:5]"
   ]
  },
  {
   "cell_type": "code",
   "execution_count": 27,
   "id": "e28bf841-e107-410a-b40b-e158133bcba5",
   "metadata": {},
   "outputs": [
    {
     "name": "stdout",
     "output_type": "stream",
     "text": [
      "[38 51 28 14 42]\n"
     ]
    }
   ],
   "source": [
    "print(slice_of_ar)"
   ]
  },
  {
   "cell_type": "code",
   "execution_count": 28,
   "id": "2004c3fe-b76b-4e43-9d02-7a9c19c58ba1",
   "metadata": {},
   "outputs": [
    {
     "name": "stdout",
     "output_type": "stream",
     "text": [
      "[69 69 69 69 69]\n",
      "[69 69 69 69 69  7 20 38]\n"
     ]
    }
   ],
   "source": [
    "slice_of_ar[:] = 69\n",
    "print(slice_of_ar)\n",
    "print(ar)"
   ]
  },
  {
   "cell_type": "code",
   "execution_count": 31,
   "id": "0e915a90-d287-490f-bd4c-ed65a7d8c2ed",
   "metadata": {},
   "outputs": [
    {
     "name": "stdout",
     "output_type": "stream",
     "text": [
      "[[ 0  2  4  6]\n",
      " [ 8 10 12 14]\n",
      " [16 18 20 22]\n",
      " [24 26 28 30]]\n"
     ]
    }
   ],
   "source": [
    "arr = np.arange(0,31,2,int).reshape(4,4)\n",
    "print(arr)"
   ]
  },
  {
   "cell_type": "code",
   "execution_count": 35,
   "id": "99e6fca0-f8a1-45d6-8a7d-d49dcd157d7b",
   "metadata": {},
   "outputs": [
    {
     "data": {
      "text/plain": [
       "array([ 12,  44,  76, 108])"
      ]
     },
     "execution_count": 35,
     "metadata": {},
     "output_type": "execute_result"
    }
   ],
   "source": [
    "np.sum(arr,axis=1)"
   ]
  },
  {
   "cell_type": "code",
   "execution_count": 42,
   "id": "4bf7ef1e-2268-49e4-956b-b9c3e86babe4",
   "metadata": {},
   "outputs": [
    {
     "name": "stdout",
     "output_type": "stream",
     "text": [
      "[[ 1  2  3  4  5]\n",
      " [ 6  7  8  9 10]\n",
      " [11 12 13 14 15]\n",
      " [16 17 18 19 20]\n",
      " [21 22 23 24 25]]\n"
     ]
    }
   ],
   "source": [
    "matrixnp = np.arange(1,26,1,int).reshape(5,5)\n",
    "print (matrixnp)"
   ]
  },
  {
   "cell_type": "code",
   "execution_count": 44,
   "id": "ab2acf6a-f5d4-4f3c-9d87-12c0482e4b40",
   "metadata": {},
   "outputs": [
    {
     "name": "stdout",
     "output_type": "stream",
     "text": [
      "[[12 13 14 15]\n",
      " [17 18 19 20]\n",
      " [22 23 24 25]]\n"
     ]
    }
   ],
   "source": [
    "mat = matrixnp[2:,1:]\n",
    "print(mat)"
   ]
  },
  {
   "cell_type": "code",
   "execution_count": 47,
   "id": "a7161794-7d75-4f47-b745-f8e46f619e9c",
   "metadata": {},
   "outputs": [
    {
     "data": {
      "text/plain": [
       "array([[ 2],\n",
       "       [ 7],\n",
       "       [12]])"
      ]
     },
     "execution_count": 47,
     "metadata": {},
     "output_type": "execute_result"
    }
   ],
   "source": [
    "matrixnp[0:3,1].reshape(3,1)"
   ]
  },
  {
   "cell_type": "markdown",
   "id": "4af99098-6da2-4e30-996c-fca6767e5cd0",
   "metadata": {},
   "source": []
  }
 ],
 "metadata": {
  "kernelspec": {
   "display_name": "Python 3 (ipykernel)",
   "language": "python",
   "name": "python3"
  },
  "language_info": {
   "codemirror_mode": {
    "name": "ipython",
    "version": 3
   },
   "file_extension": ".py",
   "mimetype": "text/x-python",
   "name": "python",
   "nbconvert_exporter": "python",
   "pygments_lexer": "ipython3",
   "version": "3.11.3"
  }
 },
 "nbformat": 4,
 "nbformat_minor": 5
}
