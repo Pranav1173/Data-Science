{
 "cells": [
  {
   "cell_type": "markdown",
   "id": "984cba55",
   "metadata": {},
   "source": [
    "Q1. What is 7 to the power 4?"
   ]
  },
  {
   "cell_type": "code",
   "execution_count": 1,
   "id": "04e9496d",
   "metadata": {},
   "outputs": [
    {
     "data": {
      "text/plain": [
       "2401"
      ]
     },
     "execution_count": 1,
     "metadata": {},
     "output_type": "execute_result"
    }
   ],
   "source": [
    "7**4"
   ]
  },
  {
   "cell_type": "markdown",
   "id": "47264281",
   "metadata": {},
   "source": [
    "Split the string"
   ]
  },
  {
   "cell_type": "code",
   "execution_count": 4,
   "id": "481f0f1f",
   "metadata": {},
   "outputs": [],
   "source": [
    "s1 = 'Hi, I am Sam'\n",
    "mylist = s1.split()"
   ]
  },
  {
   "cell_type": "code",
   "execution_count": 6,
   "id": "a0025c30",
   "metadata": {},
   "outputs": [
    {
     "name": "stdout",
     "output_type": "stream",
     "text": [
      "['Hi,', 'I', 'am', 'Sam']\n"
     ]
    }
   ],
   "source": [
    "print(mylist)"
   ]
  },
  {
   "cell_type": "markdown",
   "id": "d878045a",
   "metadata": {},
   "source": [
    "Use .format()"
   ]
  },
  {
   "cell_type": "code",
   "execution_count": 8,
   "id": "4e39a305",
   "metadata": {},
   "outputs": [],
   "source": [
    "planet = 'Earth'\n",
    "diameter = 12742"
   ]
  },
  {
   "cell_type": "code",
   "execution_count": 10,
   "id": "cc0c334d",
   "metadata": {},
   "outputs": [
    {
     "name": "stdout",
     "output_type": "stream",
     "text": [
      "The diameter of the Earth is 12742\n"
     ]
    }
   ],
   "source": [
    "print(\"The diameter of the {x} is {y}\".format(x = planet, y = diameter))"
   ]
  },
  {
   "cell_type": "markdown",
   "id": "f3eefe3a",
   "metadata": {},
   "source": []
  }
 ],
 "metadata": {
  "kernelspec": {
   "display_name": "Python 3 (ipykernel)",
   "language": "python",
   "name": "python3"
  },
  "language_info": {
   "codemirror_mode": {
    "name": "ipython",
    "version": 3
   },
   "file_extension": ".py",
   "mimetype": "text/x-python",
   "name": "python",
   "nbconvert_exporter": "python",
   "pygments_lexer": "ipython3",
   "version": "3.11.3"
  }
 },
 "nbformat": 4,
 "nbformat_minor": 5
}
