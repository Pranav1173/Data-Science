{
 "cells": [
  {
   "cell_type": "code",
   "execution_count": 2,
   "id": "76e1fb6c-7ffb-45ce-92e6-c7fc65435ad4",
   "metadata": {},
   "outputs": [],
   "source": [
    "import matplotlib.pyplot as plt\n",
    "import numpy as np"
   ]
  },
  {
   "cell_type": "code",
   "execution_count": 3,
   "id": "e119ba0d-656f-4aa6-9826-b9e3826527b5",
   "metadata": {},
   "outputs": [],
   "source": [
    "x = np.arange(0,3,1)\n",
    "y = np.arange(0,6,2)"
   ]
  },
  {
   "cell_type": "code",
   "execution_count": null,
   "id": "9e6980c7-1d3b-484b-a4d8-eaee13d0e170",
   "metadata": {},
   "outputs": [],
   "source": [
    "fig = plt.figure(dpi = 200)\n",
    "axes1 = fig.add_axes([0,0,1,1])"
   ]
  }
 ],
 "metadata": {
  "kernelspec": {
   "display_name": "Python 3 (ipykernel)",
   "language": "python",
   "name": "python3"
  },
  "language_info": {
   "codemirror_mode": {
    "name": "ipython",
    "version": 3
   },
   "file_extension": ".py",
   "mimetype": "text/x-python",
   "name": "python",
   "nbconvert_exporter": "python",
   "pygments_lexer": "ipython3",
   "version": "3.11.3"
  }
 },
 "nbformat": 4,
 "nbformat_minor": 5
}
